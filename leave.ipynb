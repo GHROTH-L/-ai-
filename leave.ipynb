{
  "nbformat": 4,
  "nbformat_minor": 0,
  "metadata": {
    "colab": {
      "provenance": [],
      "authorship_tag": "ABX9TyNGcRv1V00ZrLNho+qO1f3n",
      "include_colab_link": true
    },
    "kernelspec": {
      "name": "python3",
      "display_name": "Python 3"
    },
    "language_info": {
      "name": "python"
    }
  },
  "cells": [
    {
      "cell_type": "markdown",
      "metadata": {
        "id": "view-in-github",
        "colab_type": "text"
      },
      "source": [
        "<a href=\"https://colab.research.google.com/github/GHROTH-L/-ai-ml-training-/blob/main/leave.ipynb\" target=\"_parent\"><img src=\"https://colab.research.google.com/assets/colab-badge.svg\" alt=\"Open In Colab\"/></a>"
      ]
    },
    {
      "cell_type": "code",
      "execution_count": 1,
      "metadata": {
        "id": "C2XmEfgzQKO-"
      },
      "outputs": [],
      "source": [
        "import pandas as pd\n",
        "import numpy as np\n",
        "import io\n",
        "import matplotlib.pyplot as plt\n",
        "import seaborn as sns #畫圖使用\n",
        "%matplotlib inline\n",
        "\n",
        "#將dataframe 上傳與下載下來\n",
        "from google.colab import files\n"
      ]
    },
    {
      "cell_type": "markdown",
      "source": [
        "#讀取資料"
      ],
      "metadata": {
        "id": "nAr-jeSkQcXi"
      }
    },
    {
      "cell_type": "code",
      "source": [
        "uploaded = files.upload()\n",
        "uploaded2 = files.upload()\n",
        "uploaded3 = files.upload()\n",
        "uploaded4 = files.upload()"
      ],
      "metadata": {
        "colab": {
          "base_uri": "https://localhost:8080/",
          "height": 250
        },
        "id": "xrLwYxBWQdqm",
        "outputId": "a3fb1f69-d408-4c43-b1fb-c3f64a40a064"
      },
      "execution_count": 2,
      "outputs": [
        {
          "output_type": "display_data",
          "data": {
            "text/plain": [
              "<IPython.core.display.HTML object>"
            ],
            "text/html": [
              "\n",
              "     <input type=\"file\" id=\"files-a8d5cef4-9d72-4cfb-b58b-6ca009acce04\" name=\"files[]\" multiple disabled\n",
              "        style=\"border:none\" />\n",
              "     <output id=\"result-a8d5cef4-9d72-4cfb-b58b-6ca009acce04\">\n",
              "      Upload widget is only available when the cell has been executed in the\n",
              "      current browser session. Please rerun this cell to enable.\n",
              "      </output>\n",
              "      <script>// Copyright 2017 Google LLC\n",
              "//\n",
              "// Licensed under the Apache License, Version 2.0 (the \"License\");\n",
              "// you may not use this file except in compliance with the License.\n",
              "// You may obtain a copy of the License at\n",
              "//\n",
              "//      http://www.apache.org/licenses/LICENSE-2.0\n",
              "//\n",
              "// Unless required by applicable law or agreed to in writing, software\n",
              "// distributed under the License is distributed on an \"AS IS\" BASIS,\n",
              "// WITHOUT WARRANTIES OR CONDITIONS OF ANY KIND, either express or implied.\n",
              "// See the License for the specific language governing permissions and\n",
              "// limitations under the License.\n",
              "\n",
              "/**\n",
              " * @fileoverview Helpers for google.colab Python module.\n",
              " */\n",
              "(function(scope) {\n",
              "function span(text, styleAttributes = {}) {\n",
              "  const element = document.createElement('span');\n",
              "  element.textContent = text;\n",
              "  for (const key of Object.keys(styleAttributes)) {\n",
              "    element.style[key] = styleAttributes[key];\n",
              "  }\n",
              "  return element;\n",
              "}\n",
              "\n",
              "// Max number of bytes which will be uploaded at a time.\n",
              "const MAX_PAYLOAD_SIZE = 100 * 1024;\n",
              "\n",
              "function _uploadFiles(inputId, outputId) {\n",
              "  const steps = uploadFilesStep(inputId, outputId);\n",
              "  const outputElement = document.getElementById(outputId);\n",
              "  // Cache steps on the outputElement to make it available for the next call\n",
              "  // to uploadFilesContinue from Python.\n",
              "  outputElement.steps = steps;\n",
              "\n",
              "  return _uploadFilesContinue(outputId);\n",
              "}\n",
              "\n",
              "// This is roughly an async generator (not supported in the browser yet),\n",
              "// where there are multiple asynchronous steps and the Python side is going\n",
              "// to poll for completion of each step.\n",
              "// This uses a Promise to block the python side on completion of each step,\n",
              "// then passes the result of the previous step as the input to the next step.\n",
              "function _uploadFilesContinue(outputId) {\n",
              "  const outputElement = document.getElementById(outputId);\n",
              "  const steps = outputElement.steps;\n",
              "\n",
              "  const next = steps.next(outputElement.lastPromiseValue);\n",
              "  return Promise.resolve(next.value.promise).then((value) => {\n",
              "    // Cache the last promise value to make it available to the next\n",
              "    // step of the generator.\n",
              "    outputElement.lastPromiseValue = value;\n",
              "    return next.value.response;\n",
              "  });\n",
              "}\n",
              "\n",
              "/**\n",
              " * Generator function which is called between each async step of the upload\n",
              " * process.\n",
              " * @param {string} inputId Element ID of the input file picker element.\n",
              " * @param {string} outputId Element ID of the output display.\n",
              " * @return {!Iterable<!Object>} Iterable of next steps.\n",
              " */\n",
              "function* uploadFilesStep(inputId, outputId) {\n",
              "  const inputElement = document.getElementById(inputId);\n",
              "  inputElement.disabled = false;\n",
              "\n",
              "  const outputElement = document.getElementById(outputId);\n",
              "  outputElement.innerHTML = '';\n",
              "\n",
              "  const pickedPromise = new Promise((resolve) => {\n",
              "    inputElement.addEventListener('change', (e) => {\n",
              "      resolve(e.target.files);\n",
              "    });\n",
              "  });\n",
              "\n",
              "  const cancel = document.createElement('button');\n",
              "  inputElement.parentElement.appendChild(cancel);\n",
              "  cancel.textContent = 'Cancel upload';\n",
              "  const cancelPromise = new Promise((resolve) => {\n",
              "    cancel.onclick = () => {\n",
              "      resolve(null);\n",
              "    };\n",
              "  });\n",
              "\n",
              "  // Wait for the user to pick the files.\n",
              "  const files = yield {\n",
              "    promise: Promise.race([pickedPromise, cancelPromise]),\n",
              "    response: {\n",
              "      action: 'starting',\n",
              "    }\n",
              "  };\n",
              "\n",
              "  cancel.remove();\n",
              "\n",
              "  // Disable the input element since further picks are not allowed.\n",
              "  inputElement.disabled = true;\n",
              "\n",
              "  if (!files) {\n",
              "    return {\n",
              "      response: {\n",
              "        action: 'complete',\n",
              "      }\n",
              "    };\n",
              "  }\n",
              "\n",
              "  for (const file of files) {\n",
              "    const li = document.createElement('li');\n",
              "    li.append(span(file.name, {fontWeight: 'bold'}));\n",
              "    li.append(span(\n",
              "        `(${file.type || 'n/a'}) - ${file.size} bytes, ` +\n",
              "        `last modified: ${\n",
              "            file.lastModifiedDate ? file.lastModifiedDate.toLocaleDateString() :\n",
              "                                    'n/a'} - `));\n",
              "    const percent = span('0% done');\n",
              "    li.appendChild(percent);\n",
              "\n",
              "    outputElement.appendChild(li);\n",
              "\n",
              "    const fileDataPromise = new Promise((resolve) => {\n",
              "      const reader = new FileReader();\n",
              "      reader.onload = (e) => {\n",
              "        resolve(e.target.result);\n",
              "      };\n",
              "      reader.readAsArrayBuffer(file);\n",
              "    });\n",
              "    // Wait for the data to be ready.\n",
              "    let fileData = yield {\n",
              "      promise: fileDataPromise,\n",
              "      response: {\n",
              "        action: 'continue',\n",
              "      }\n",
              "    };\n",
              "\n",
              "    // Use a chunked sending to avoid message size limits. See b/62115660.\n",
              "    let position = 0;\n",
              "    do {\n",
              "      const length = Math.min(fileData.byteLength - position, MAX_PAYLOAD_SIZE);\n",
              "      const chunk = new Uint8Array(fileData, position, length);\n",
              "      position += length;\n",
              "\n",
              "      const base64 = btoa(String.fromCharCode.apply(null, chunk));\n",
              "      yield {\n",
              "        response: {\n",
              "          action: 'append',\n",
              "          file: file.name,\n",
              "          data: base64,\n",
              "        },\n",
              "      };\n",
              "\n",
              "      let percentDone = fileData.byteLength === 0 ?\n",
              "          100 :\n",
              "          Math.round((position / fileData.byteLength) * 100);\n",
              "      percent.textContent = `${percentDone}% done`;\n",
              "\n",
              "    } while (position < fileData.byteLength);\n",
              "  }\n",
              "\n",
              "  // All done.\n",
              "  yield {\n",
              "    response: {\n",
              "      action: 'complete',\n",
              "    }\n",
              "  };\n",
              "}\n",
              "\n",
              "scope.google = scope.google || {};\n",
              "scope.google.colab = scope.google.colab || {};\n",
              "scope.google.colab._files = {\n",
              "  _uploadFiles,\n",
              "  _uploadFilesContinue,\n",
              "};\n",
              "})(self);\n",
              "</script> "
            ]
          },
          "metadata": {}
        },
        {
          "output_type": "stream",
          "name": "stdout",
          "text": [
            "Saving test.csv to test.csv\n"
          ]
        },
        {
          "output_type": "display_data",
          "data": {
            "text/plain": [
              "<IPython.core.display.HTML object>"
            ],
            "text/html": [
              "\n",
              "     <input type=\"file\" id=\"files-3bf72b32-4d9a-47e3-8739-27c257904fd1\" name=\"files[]\" multiple disabled\n",
              "        style=\"border:none\" />\n",
              "     <output id=\"result-3bf72b32-4d9a-47e3-8739-27c257904fd1\">\n",
              "      Upload widget is only available when the cell has been executed in the\n",
              "      current browser session. Please rerun this cell to enable.\n",
              "      </output>\n",
              "      <script>// Copyright 2017 Google LLC\n",
              "//\n",
              "// Licensed under the Apache License, Version 2.0 (the \"License\");\n",
              "// you may not use this file except in compliance with the License.\n",
              "// You may obtain a copy of the License at\n",
              "//\n",
              "//      http://www.apache.org/licenses/LICENSE-2.0\n",
              "//\n",
              "// Unless required by applicable law or agreed to in writing, software\n",
              "// distributed under the License is distributed on an \"AS IS\" BASIS,\n",
              "// WITHOUT WARRANTIES OR CONDITIONS OF ANY KIND, either express or implied.\n",
              "// See the License for the specific language governing permissions and\n",
              "// limitations under the License.\n",
              "\n",
              "/**\n",
              " * @fileoverview Helpers for google.colab Python module.\n",
              " */\n",
              "(function(scope) {\n",
              "function span(text, styleAttributes = {}) {\n",
              "  const element = document.createElement('span');\n",
              "  element.textContent = text;\n",
              "  for (const key of Object.keys(styleAttributes)) {\n",
              "    element.style[key] = styleAttributes[key];\n",
              "  }\n",
              "  return element;\n",
              "}\n",
              "\n",
              "// Max number of bytes which will be uploaded at a time.\n",
              "const MAX_PAYLOAD_SIZE = 100 * 1024;\n",
              "\n",
              "function _uploadFiles(inputId, outputId) {\n",
              "  const steps = uploadFilesStep(inputId, outputId);\n",
              "  const outputElement = document.getElementById(outputId);\n",
              "  // Cache steps on the outputElement to make it available for the next call\n",
              "  // to uploadFilesContinue from Python.\n",
              "  outputElement.steps = steps;\n",
              "\n",
              "  return _uploadFilesContinue(outputId);\n",
              "}\n",
              "\n",
              "// This is roughly an async generator (not supported in the browser yet),\n",
              "// where there are multiple asynchronous steps and the Python side is going\n",
              "// to poll for completion of each step.\n",
              "// This uses a Promise to block the python side on completion of each step,\n",
              "// then passes the result of the previous step as the input to the next step.\n",
              "function _uploadFilesContinue(outputId) {\n",
              "  const outputElement = document.getElementById(outputId);\n",
              "  const steps = outputElement.steps;\n",
              "\n",
              "  const next = steps.next(outputElement.lastPromiseValue);\n",
              "  return Promise.resolve(next.value.promise).then((value) => {\n",
              "    // Cache the last promise value to make it available to the next\n",
              "    // step of the generator.\n",
              "    outputElement.lastPromiseValue = value;\n",
              "    return next.value.response;\n",
              "  });\n",
              "}\n",
              "\n",
              "/**\n",
              " * Generator function which is called between each async step of the upload\n",
              " * process.\n",
              " * @param {string} inputId Element ID of the input file picker element.\n",
              " * @param {string} outputId Element ID of the output display.\n",
              " * @return {!Iterable<!Object>} Iterable of next steps.\n",
              " */\n",
              "function* uploadFilesStep(inputId, outputId) {\n",
              "  const inputElement = document.getElementById(inputId);\n",
              "  inputElement.disabled = false;\n",
              "\n",
              "  const outputElement = document.getElementById(outputId);\n",
              "  outputElement.innerHTML = '';\n",
              "\n",
              "  const pickedPromise = new Promise((resolve) => {\n",
              "    inputElement.addEventListener('change', (e) => {\n",
              "      resolve(e.target.files);\n",
              "    });\n",
              "  });\n",
              "\n",
              "  const cancel = document.createElement('button');\n",
              "  inputElement.parentElement.appendChild(cancel);\n",
              "  cancel.textContent = 'Cancel upload';\n",
              "  const cancelPromise = new Promise((resolve) => {\n",
              "    cancel.onclick = () => {\n",
              "      resolve(null);\n",
              "    };\n",
              "  });\n",
              "\n",
              "  // Wait for the user to pick the files.\n",
              "  const files = yield {\n",
              "    promise: Promise.race([pickedPromise, cancelPromise]),\n",
              "    response: {\n",
              "      action: 'starting',\n",
              "    }\n",
              "  };\n",
              "\n",
              "  cancel.remove();\n",
              "\n",
              "  // Disable the input element since further picks are not allowed.\n",
              "  inputElement.disabled = true;\n",
              "\n",
              "  if (!files) {\n",
              "    return {\n",
              "      response: {\n",
              "        action: 'complete',\n",
              "      }\n",
              "    };\n",
              "  }\n",
              "\n",
              "  for (const file of files) {\n",
              "    const li = document.createElement('li');\n",
              "    li.append(span(file.name, {fontWeight: 'bold'}));\n",
              "    li.append(span(\n",
              "        `(${file.type || 'n/a'}) - ${file.size} bytes, ` +\n",
              "        `last modified: ${\n",
              "            file.lastModifiedDate ? file.lastModifiedDate.toLocaleDateString() :\n",
              "                                    'n/a'} - `));\n",
              "    const percent = span('0% done');\n",
              "    li.appendChild(percent);\n",
              "\n",
              "    outputElement.appendChild(li);\n",
              "\n",
              "    const fileDataPromise = new Promise((resolve) => {\n",
              "      const reader = new FileReader();\n",
              "      reader.onload = (e) => {\n",
              "        resolve(e.target.result);\n",
              "      };\n",
              "      reader.readAsArrayBuffer(file);\n",
              "    });\n",
              "    // Wait for the data to be ready.\n",
              "    let fileData = yield {\n",
              "      promise: fileDataPromise,\n",
              "      response: {\n",
              "        action: 'continue',\n",
              "      }\n",
              "    };\n",
              "\n",
              "    // Use a chunked sending to avoid message size limits. See b/62115660.\n",
              "    let position = 0;\n",
              "    do {\n",
              "      const length = Math.min(fileData.byteLength - position, MAX_PAYLOAD_SIZE);\n",
              "      const chunk = new Uint8Array(fileData, position, length);\n",
              "      position += length;\n",
              "\n",
              "      const base64 = btoa(String.fromCharCode.apply(null, chunk));\n",
              "      yield {\n",
              "        response: {\n",
              "          action: 'append',\n",
              "          file: file.name,\n",
              "          data: base64,\n",
              "        },\n",
              "      };\n",
              "\n",
              "      let percentDone = fileData.byteLength === 0 ?\n",
              "          100 :\n",
              "          Math.round((position / fileData.byteLength) * 100);\n",
              "      percent.textContent = `${percentDone}% done`;\n",
              "\n",
              "    } while (position < fileData.byteLength);\n",
              "  }\n",
              "\n",
              "  // All done.\n",
              "  yield {\n",
              "    response: {\n",
              "      action: 'complete',\n",
              "    }\n",
              "  };\n",
              "}\n",
              "\n",
              "scope.google = scope.google || {};\n",
              "scope.google.colab = scope.google.colab || {};\n",
              "scope.google.colab._files = {\n",
              "  _uploadFiles,\n",
              "  _uploadFilesContinue,\n",
              "};\n",
              "})(self);\n",
              "</script> "
            ]
          },
          "metadata": {}
        },
        {
          "output_type": "stream",
          "name": "stdout",
          "text": [
            "Saving train.csv to train.csv\n"
          ]
        },
        {
          "output_type": "display_data",
          "data": {
            "text/plain": [
              "<IPython.core.display.HTML object>"
            ],
            "text/html": [
              "\n",
              "     <input type=\"file\" id=\"files-ca1dc026-5a89-4bc9-973f-9b96ba79c7f6\" name=\"files[]\" multiple disabled\n",
              "        style=\"border:none\" />\n",
              "     <output id=\"result-ca1dc026-5a89-4bc9-973f-9b96ba79c7f6\">\n",
              "      Upload widget is only available when the cell has been executed in the\n",
              "      current browser session. Please rerun this cell to enable.\n",
              "      </output>\n",
              "      <script>// Copyright 2017 Google LLC\n",
              "//\n",
              "// Licensed under the Apache License, Version 2.0 (the \"License\");\n",
              "// you may not use this file except in compliance with the License.\n",
              "// You may obtain a copy of the License at\n",
              "//\n",
              "//      http://www.apache.org/licenses/LICENSE-2.0\n",
              "//\n",
              "// Unless required by applicable law or agreed to in writing, software\n",
              "// distributed under the License is distributed on an \"AS IS\" BASIS,\n",
              "// WITHOUT WARRANTIES OR CONDITIONS OF ANY KIND, either express or implied.\n",
              "// See the License for the specific language governing permissions and\n",
              "// limitations under the License.\n",
              "\n",
              "/**\n",
              " * @fileoverview Helpers for google.colab Python module.\n",
              " */\n",
              "(function(scope) {\n",
              "function span(text, styleAttributes = {}) {\n",
              "  const element = document.createElement('span');\n",
              "  element.textContent = text;\n",
              "  for (const key of Object.keys(styleAttributes)) {\n",
              "    element.style[key] = styleAttributes[key];\n",
              "  }\n",
              "  return element;\n",
              "}\n",
              "\n",
              "// Max number of bytes which will be uploaded at a time.\n",
              "const MAX_PAYLOAD_SIZE = 100 * 1024;\n",
              "\n",
              "function _uploadFiles(inputId, outputId) {\n",
              "  const steps = uploadFilesStep(inputId, outputId);\n",
              "  const outputElement = document.getElementById(outputId);\n",
              "  // Cache steps on the outputElement to make it available for the next call\n",
              "  // to uploadFilesContinue from Python.\n",
              "  outputElement.steps = steps;\n",
              "\n",
              "  return _uploadFilesContinue(outputId);\n",
              "}\n",
              "\n",
              "// This is roughly an async generator (not supported in the browser yet),\n",
              "// where there are multiple asynchronous steps and the Python side is going\n",
              "// to poll for completion of each step.\n",
              "// This uses a Promise to block the python side on completion of each step,\n",
              "// then passes the result of the previous step as the input to the next step.\n",
              "function _uploadFilesContinue(outputId) {\n",
              "  const outputElement = document.getElementById(outputId);\n",
              "  const steps = outputElement.steps;\n",
              "\n",
              "  const next = steps.next(outputElement.lastPromiseValue);\n",
              "  return Promise.resolve(next.value.promise).then((value) => {\n",
              "    // Cache the last promise value to make it available to the next\n",
              "    // step of the generator.\n",
              "    outputElement.lastPromiseValue = value;\n",
              "    return next.value.response;\n",
              "  });\n",
              "}\n",
              "\n",
              "/**\n",
              " * Generator function which is called between each async step of the upload\n",
              " * process.\n",
              " * @param {string} inputId Element ID of the input file picker element.\n",
              " * @param {string} outputId Element ID of the output display.\n",
              " * @return {!Iterable<!Object>} Iterable of next steps.\n",
              " */\n",
              "function* uploadFilesStep(inputId, outputId) {\n",
              "  const inputElement = document.getElementById(inputId);\n",
              "  inputElement.disabled = false;\n",
              "\n",
              "  const outputElement = document.getElementById(outputId);\n",
              "  outputElement.innerHTML = '';\n",
              "\n",
              "  const pickedPromise = new Promise((resolve) => {\n",
              "    inputElement.addEventListener('change', (e) => {\n",
              "      resolve(e.target.files);\n",
              "    });\n",
              "  });\n",
              "\n",
              "  const cancel = document.createElement('button');\n",
              "  inputElement.parentElement.appendChild(cancel);\n",
              "  cancel.textContent = 'Cancel upload';\n",
              "  const cancelPromise = new Promise((resolve) => {\n",
              "    cancel.onclick = () => {\n",
              "      resolve(null);\n",
              "    };\n",
              "  });\n",
              "\n",
              "  // Wait for the user to pick the files.\n",
              "  const files = yield {\n",
              "    promise: Promise.race([pickedPromise, cancelPromise]),\n",
              "    response: {\n",
              "      action: 'starting',\n",
              "    }\n",
              "  };\n",
              "\n",
              "  cancel.remove();\n",
              "\n",
              "  // Disable the input element since further picks are not allowed.\n",
              "  inputElement.disabled = true;\n",
              "\n",
              "  if (!files) {\n",
              "    return {\n",
              "      response: {\n",
              "        action: 'complete',\n",
              "      }\n",
              "    };\n",
              "  }\n",
              "\n",
              "  for (const file of files) {\n",
              "    const li = document.createElement('li');\n",
              "    li.append(span(file.name, {fontWeight: 'bold'}));\n",
              "    li.append(span(\n",
              "        `(${file.type || 'n/a'}) - ${file.size} bytes, ` +\n",
              "        `last modified: ${\n",
              "            file.lastModifiedDate ? file.lastModifiedDate.toLocaleDateString() :\n",
              "                                    'n/a'} - `));\n",
              "    const percent = span('0% done');\n",
              "    li.appendChild(percent);\n",
              "\n",
              "    outputElement.appendChild(li);\n",
              "\n",
              "    const fileDataPromise = new Promise((resolve) => {\n",
              "      const reader = new FileReader();\n",
              "      reader.onload = (e) => {\n",
              "        resolve(e.target.result);\n",
              "      };\n",
              "      reader.readAsArrayBuffer(file);\n",
              "    });\n",
              "    // Wait for the data to be ready.\n",
              "    let fileData = yield {\n",
              "      promise: fileDataPromise,\n",
              "      response: {\n",
              "        action: 'continue',\n",
              "      }\n",
              "    };\n",
              "\n",
              "    // Use a chunked sending to avoid message size limits. See b/62115660.\n",
              "    let position = 0;\n",
              "    do {\n",
              "      const length = Math.min(fileData.byteLength - position, MAX_PAYLOAD_SIZE);\n",
              "      const chunk = new Uint8Array(fileData, position, length);\n",
              "      position += length;\n",
              "\n",
              "      const base64 = btoa(String.fromCharCode.apply(null, chunk));\n",
              "      yield {\n",
              "        response: {\n",
              "          action: 'append',\n",
              "          file: file.name,\n",
              "          data: base64,\n",
              "        },\n",
              "      };\n",
              "\n",
              "      let percentDone = fileData.byteLength === 0 ?\n",
              "          100 :\n",
              "          Math.round((position / fileData.byteLength) * 100);\n",
              "      percent.textContent = `${percentDone}% done`;\n",
              "\n",
              "    } while (position < fileData.byteLength);\n",
              "  }\n",
              "\n",
              "  // All done.\n",
              "  yield {\n",
              "    response: {\n",
              "      action: 'complete',\n",
              "    }\n",
              "  };\n",
              "}\n",
              "\n",
              "scope.google = scope.google || {};\n",
              "scope.google.colab = scope.google.colab || {};\n",
              "scope.google.colab._files = {\n",
              "  _uploadFiles,\n",
              "  _uploadFilesContinue,\n",
              "};\n",
              "})(self);\n",
              "</script> "
            ]
          },
          "metadata": {}
        },
        {
          "output_type": "stream",
          "name": "stdout",
          "text": [
            "Saving submission.csv to submission.csv\n"
          ]
        },
        {
          "output_type": "display_data",
          "data": {
            "text/plain": [
              "<IPython.core.display.HTML object>"
            ],
            "text/html": [
              "\n",
              "     <input type=\"file\" id=\"files-46767c2d-5e69-48ce-8c25-36e377bf12b5\" name=\"files[]\" multiple disabled\n",
              "        style=\"border:none\" />\n",
              "     <output id=\"result-46767c2d-5e69-48ce-8c25-36e377bf12b5\">\n",
              "      Upload widget is only available when the cell has been executed in the\n",
              "      current browser session. Please rerun this cell to enable.\n",
              "      </output>\n",
              "      <script>// Copyright 2017 Google LLC\n",
              "//\n",
              "// Licensed under the Apache License, Version 2.0 (the \"License\");\n",
              "// you may not use this file except in compliance with the License.\n",
              "// You may obtain a copy of the License at\n",
              "//\n",
              "//      http://www.apache.org/licenses/LICENSE-2.0\n",
              "//\n",
              "// Unless required by applicable law or agreed to in writing, software\n",
              "// distributed under the License is distributed on an \"AS IS\" BASIS,\n",
              "// WITHOUT WARRANTIES OR CONDITIONS OF ANY KIND, either express or implied.\n",
              "// See the License for the specific language governing permissions and\n",
              "// limitations under the License.\n",
              "\n",
              "/**\n",
              " * @fileoverview Helpers for google.colab Python module.\n",
              " */\n",
              "(function(scope) {\n",
              "function span(text, styleAttributes = {}) {\n",
              "  const element = document.createElement('span');\n",
              "  element.textContent = text;\n",
              "  for (const key of Object.keys(styleAttributes)) {\n",
              "    element.style[key] = styleAttributes[key];\n",
              "  }\n",
              "  return element;\n",
              "}\n",
              "\n",
              "// Max number of bytes which will be uploaded at a time.\n",
              "const MAX_PAYLOAD_SIZE = 100 * 1024;\n",
              "\n",
              "function _uploadFiles(inputId, outputId) {\n",
              "  const steps = uploadFilesStep(inputId, outputId);\n",
              "  const outputElement = document.getElementById(outputId);\n",
              "  // Cache steps on the outputElement to make it available for the next call\n",
              "  // to uploadFilesContinue from Python.\n",
              "  outputElement.steps = steps;\n",
              "\n",
              "  return _uploadFilesContinue(outputId);\n",
              "}\n",
              "\n",
              "// This is roughly an async generator (not supported in the browser yet),\n",
              "// where there are multiple asynchronous steps and the Python side is going\n",
              "// to poll for completion of each step.\n",
              "// This uses a Promise to block the python side on completion of each step,\n",
              "// then passes the result of the previous step as the input to the next step.\n",
              "function _uploadFilesContinue(outputId) {\n",
              "  const outputElement = document.getElementById(outputId);\n",
              "  const steps = outputElement.steps;\n",
              "\n",
              "  const next = steps.next(outputElement.lastPromiseValue);\n",
              "  return Promise.resolve(next.value.promise).then((value) => {\n",
              "    // Cache the last promise value to make it available to the next\n",
              "    // step of the generator.\n",
              "    outputElement.lastPromiseValue = value;\n",
              "    return next.value.response;\n",
              "  });\n",
              "}\n",
              "\n",
              "/**\n",
              " * Generator function which is called between each async step of the upload\n",
              " * process.\n",
              " * @param {string} inputId Element ID of the input file picker element.\n",
              " * @param {string} outputId Element ID of the output display.\n",
              " * @return {!Iterable<!Object>} Iterable of next steps.\n",
              " */\n",
              "function* uploadFilesStep(inputId, outputId) {\n",
              "  const inputElement = document.getElementById(inputId);\n",
              "  inputElement.disabled = false;\n",
              "\n",
              "  const outputElement = document.getElementById(outputId);\n",
              "  outputElement.innerHTML = '';\n",
              "\n",
              "  const pickedPromise = new Promise((resolve) => {\n",
              "    inputElement.addEventListener('change', (e) => {\n",
              "      resolve(e.target.files);\n",
              "    });\n",
              "  });\n",
              "\n",
              "  const cancel = document.createElement('button');\n",
              "  inputElement.parentElement.appendChild(cancel);\n",
              "  cancel.textContent = 'Cancel upload';\n",
              "  const cancelPromise = new Promise((resolve) => {\n",
              "    cancel.onclick = () => {\n",
              "      resolve(null);\n",
              "    };\n",
              "  });\n",
              "\n",
              "  // Wait for the user to pick the files.\n",
              "  const files = yield {\n",
              "    promise: Promise.race([pickedPromise, cancelPromise]),\n",
              "    response: {\n",
              "      action: 'starting',\n",
              "    }\n",
              "  };\n",
              "\n",
              "  cancel.remove();\n",
              "\n",
              "  // Disable the input element since further picks are not allowed.\n",
              "  inputElement.disabled = true;\n",
              "\n",
              "  if (!files) {\n",
              "    return {\n",
              "      response: {\n",
              "        action: 'complete',\n",
              "      }\n",
              "    };\n",
              "  }\n",
              "\n",
              "  for (const file of files) {\n",
              "    const li = document.createElement('li');\n",
              "    li.append(span(file.name, {fontWeight: 'bold'}));\n",
              "    li.append(span(\n",
              "        `(${file.type || 'n/a'}) - ${file.size} bytes, ` +\n",
              "        `last modified: ${\n",
              "            file.lastModifiedDate ? file.lastModifiedDate.toLocaleDateString() :\n",
              "                                    'n/a'} - `));\n",
              "    const percent = span('0% done');\n",
              "    li.appendChild(percent);\n",
              "\n",
              "    outputElement.appendChild(li);\n",
              "\n",
              "    const fileDataPromise = new Promise((resolve) => {\n",
              "      const reader = new FileReader();\n",
              "      reader.onload = (e) => {\n",
              "        resolve(e.target.result);\n",
              "      };\n",
              "      reader.readAsArrayBuffer(file);\n",
              "    });\n",
              "    // Wait for the data to be ready.\n",
              "    let fileData = yield {\n",
              "      promise: fileDataPromise,\n",
              "      response: {\n",
              "        action: 'continue',\n",
              "      }\n",
              "    };\n",
              "\n",
              "    // Use a chunked sending to avoid message size limits. See b/62115660.\n",
              "    let position = 0;\n",
              "    do {\n",
              "      const length = Math.min(fileData.byteLength - position, MAX_PAYLOAD_SIZE);\n",
              "      const chunk = new Uint8Array(fileData, position, length);\n",
              "      position += length;\n",
              "\n",
              "      const base64 = btoa(String.fromCharCode.apply(null, chunk));\n",
              "      yield {\n",
              "        response: {\n",
              "          action: 'append',\n",
              "          file: file.name,\n",
              "          data: base64,\n",
              "        },\n",
              "      };\n",
              "\n",
              "      let percentDone = fileData.byteLength === 0 ?\n",
              "          100 :\n",
              "          Math.round((position / fileData.byteLength) * 100);\n",
              "      percent.textContent = `${percentDone}% done`;\n",
              "\n",
              "    } while (position < fileData.byteLength);\n",
              "  }\n",
              "\n",
              "  // All done.\n",
              "  yield {\n",
              "    response: {\n",
              "      action: 'complete',\n",
              "    }\n",
              "  };\n",
              "}\n",
              "\n",
              "scope.google = scope.google || {};\n",
              "scope.google.colab = scope.google.colab || {};\n",
              "scope.google.colab._files = {\n",
              "  _uploadFiles,\n",
              "  _uploadFilesContinue,\n",
              "};\n",
              "})(self);\n",
              "</script> "
            ]
          },
          "metadata": {}
        },
        {
          "output_type": "stream",
          "name": "stdout",
          "text": [
            "Saving season.csv to season.csv\n"
          ]
        }
      ]
    },
    {
      "cell_type": "code",
      "source": [
        "test = pd.read_csv(io.BytesIO(uploaded['test.csv']))\n",
        "train = pd.read_csv(io.BytesIO(uploaded2['train.csv']))\n",
        "sub = pd.read_csv(io.BytesIO(uploaded3['submission.csv'])) #範例\n",
        "season = pd.read_csv(io.BytesIO(uploaded4['season.csv']))"
      ],
      "metadata": {
        "id": "nfFezCAXQisc"
      },
      "execution_count": 3,
      "outputs": []
    },
    {
      "cell_type": "code",
      "source": [
        "t_data = train.append(test)"
      ],
      "metadata": {
        "id": "onSZONapRoBA",
        "colab": {
          "base_uri": "https://localhost:8080/"
        },
        "outputId": "7c6727fc-8c03-400b-922a-b12c46ba76f6"
      },
      "execution_count": 4,
      "outputs": [
        {
          "output_type": "stream",
          "name": "stderr",
          "text": [
            "<ipython-input-4-3284ece20f33>:1: FutureWarning: The frame.append method is deprecated and will be removed from pandas in a future version. Use pandas.concat instead.\n",
            "  t_data = train.append(test)\n"
          ]
        }
      ]
    },
    {
      "cell_type": "markdown",
      "source": [
        "#觀察資料"
      ],
      "metadata": {
        "id": "VZx_nEsKkOv-"
      }
    },
    {
      "cell_type": "code",
      "source": [
        "season.columns"
      ],
      "metadata": {
        "colab": {
          "base_uri": "https://localhost:8080/"
        },
        "id": "N28BoQPGRpuw",
        "outputId": "332a3086-0e82-4af3-9aed-4c4ab3070fa6"
      },
      "execution_count": 5,
      "outputs": [
        {
          "output_type": "execute_result",
          "data": {
            "text/plain": [
              "Index(['yyyy', 'periodQ', 'PerNo', '加班數', '出差數A', '出差數B', '請假數A', '請假數B'], dtype='object')"
            ]
          },
          "metadata": {},
          "execution_count": 5
        }
      ]
    },
    {
      "cell_type": "code",
      "source": [
        "#輸出所有的變數\n",
        "for i in t_data.columns:\n",
        "    print(i)\n",
        "    print(list(t_data[i].unique()))\n",
        "    print(\"================================================\")"
      ],
      "metadata": {
        "id": "UVV3KXkSTz71",
        "outputId": "7478460d-f2ad-4984-823c-77f5a2f85d13",
        "colab": {
          "base_uri": "https://localhost:8080/"
        }
      },
      "execution_count": 7,
      "outputs": [
        {
          "output_type": "stream",
          "name": "stdout",
          "text": [
            "yyyy\n",
            "[2014, 2015, 2016, 2017, 2018]\n",
            "================================================\n",
            "PerNo\n",
            "[1, 3, 6, 7, 10, 11, 14, 15, 16, 18, 19, 22, 23, 24, 26, 27, 28, 31, 35, 39, 40, 42, 44, 45, 51, 54, 55, 56, 57, 58, 59, 61, 62, 65, 68, 69, 70, 71, 72, 73, 78, 80, 85, 87, 89, 96, 98, 100, 102, 105, 107, 111, 112, 116, 118, 120, 121, 123, 125, 126, 133, 135, 138, 140, 142, 143, 144, 145, 146, 150, 152, 153, 155, 156, 157, 158, 159, 160, 162, 163, 165, 167, 169, 170, 171, 173, 176, 177, 178, 180, 183, 186, 190, 194, 195, 197, 199, 203, 204, 206, 209, 210, 212, 214, 215, 220, 227, 228, 229, 230, 232, 233, 234, 235, 241, 244, 245, 249, 252, 259, 260, 262, 266, 269, 271, 272, 273, 274, 275, 276, 279, 281, 282, 283, 284, 285, 287, 289, 290, 291, 292, 294, 296, 297, 301, 302, 303, 305, 306, 308, 309, 311, 312, 313, 314, 318, 321, 322, 325, 327, 332, 333, 338, 339, 343, 344, 345, 346, 349, 350, 351, 352, 353, 354, 355, 358, 359, 361, 364, 365, 366, 368, 369, 370, 371, 372, 373, 375, 376, 377, 378, 379, 380, 382, 384, 385, 386, 389, 390, 392, 394, 398, 402, 403, 405, 408, 409, 410, 412, 413, 414, 418, 420, 421, 424, 425, 426, 428, 429, 430, 431, 435, 436, 438, 439, 442, 447, 448, 452, 454, 455, 456, 458, 462, 463, 465, 468, 469, 470, 471, 473, 474, 475, 476, 477, 478, 479, 483, 484, 486, 488, 489, 494, 496, 497, 498, 499, 503, 505, 508, 510, 512, 513, 514, 515, 517, 520, 522, 523, 525, 528, 530, 534, 535, 538, 540, 541, 543, 545, 552, 554, 555, 557, 559, 561, 569, 574, 576, 582, 583, 584, 585, 586, 587, 588, 589, 590, 591, 593, 594, 597, 598, 599, 603, 604, 605, 617, 619, 621, 622, 623, 624, 627, 628, 629, 632, 633, 634, 636, 637, 641, 643, 646, 647, 648, 649, 650, 651, 652, 655, 656, 658, 659, 660, 662, 663, 664, 666, 667, 670, 671, 672, 673, 674, 675, 676, 677, 678, 679, 684, 686, 690, 694, 696, 698, 699, 703, 707, 708, 711, 713, 714, 717, 718, 723, 728, 730, 732, 733, 734, 735, 736, 737, 739, 740, 741, 743, 744, 748, 749, 750, 751, 754, 755, 756, 760, 761, 762, 764, 765, 766, 767, 769, 770, 771, 772, 773, 774, 779, 781, 782, 783, 784, 785, 789, 790, 791, 792, 797, 798, 799, 800, 802, 804, 805, 806, 807, 808, 811, 812, 813, 814, 817, 819, 821, 823, 825, 827, 828, 829, 830, 831, 834, 836, 839, 840, 841, 842, 844, 845, 848, 849, 850, 854, 855, 856, 857, 861, 866, 867, 868, 871, 874, 876, 877, 880, 881, 882, 883, 884, 885, 886, 887, 888, 889, 890, 891, 892, 893, 898, 899, 903, 905, 907, 908, 910, 911, 914, 915, 917, 919, 920, 921, 922, 923, 926, 927, 929, 930, 935, 936, 937, 938, 940, 941, 944, 945, 947, 961, 962, 963, 964, 970, 971, 979, 980, 981, 982, 983, 984, 989, 991, 993, 995, 998, 999, 1004, 1005, 1007, 1008, 1010, 1011, 1012, 1013, 1014, 1016, 1021, 1023, 1025, 1026, 1027, 1029, 1030, 1031, 1032, 1034, 1039, 1040, 1047, 1048, 1049, 1050, 1054, 1055, 1056, 1058, 1060, 1063, 1066, 1067, 1068, 1069, 1070, 1071, 1072, 1074, 1075, 1079, 1080, 1081, 1083, 1086, 1087, 1088, 1090, 1092, 1093, 1095, 1099, 1102, 1105, 1109, 1111, 1112, 1113, 1115, 1117, 1118, 1119, 1121, 1122, 1126, 1130, 1136, 1138, 1140, 1141, 1142, 1143, 1144, 1145, 1147, 1149, 1151, 1153, 1156, 1157, 1161, 1162, 1164, 1165, 1167, 1169, 1170, 1171, 1172, 1173, 1175, 1177, 1179, 1180, 1182, 1184, 1185, 1186, 1188, 1189, 1192, 1196, 1198, 1201, 1203, 1204, 1207, 1209, 1210, 1216, 1219, 1224, 1226, 1227, 1228, 1229, 1230, 1231, 1232, 1233, 1235, 1236, 1237, 1239, 1240, 1242, 1243, 1244, 1245, 1248, 1250, 1251, 1252, 1254, 1259, 1261, 1262, 1264, 1265, 1268, 1269, 1271, 1273, 1275, 1276, 1277, 1286, 1290, 1291, 1292, 1293, 1294, 1298, 1301, 1303, 1305, 1306, 1308, 1311, 1316, 1317, 1318, 1319, 1320, 1323, 1325, 1326, 1328, 1329, 1331, 1332, 1334, 1337, 1344, 1349, 1350, 1353, 1357, 1359, 1363, 1364, 1369, 1371, 1373, 1381, 1383, 1384, 1387, 1389, 1392, 1393, 1396, 1401, 1402, 1403, 1408, 1409, 1411, 1412, 1414, 1415, 1417, 1419, 1421, 1422, 1425, 1428, 1431, 1432, 1433, 1435, 1437, 1441, 1442, 1443, 1445, 1446, 1447, 1450, 1451, 1452, 1455, 1459, 1460, 1461, 1462, 1464, 1466, 1470, 1474, 1476, 1479, 1482, 1483, 1486, 1487, 1489, 1493, 1498, 1499, 1500, 1501, 1502, 1503, 1504, 1506, 1508, 1509, 1511, 1512, 1513, 1517, 1519, 1522, 1527, 1528, 1529, 1530, 1533, 1534, 1535, 1536, 1540, 1542, 1543, 1544, 1547, 1548, 1557, 1559, 1560, 1564, 1565, 1566, 1569, 1571, 1572, 1574, 1577, 1579, 1580, 1583, 1584, 1586, 1587, 1594, 1596, 1600, 1601, 1603, 1605, 1607, 1608, 1609, 1610, 1611, 1613, 1616, 1626, 1627, 1628, 1629, 1630, 1637, 1638, 1643, 1647, 1649, 1652, 1653, 1655, 1656, 1660, 1662, 1663, 1665, 1666, 1667, 1668, 1669, 1670, 1673, 1674, 1675, 1676, 1680, 1685, 1686, 1688, 1689, 1691, 1692, 1693, 1694, 1695, 1698, 1700, 1701, 1703, 1704, 1705, 1706, 1707, 1709, 1712, 1713, 1716, 1717, 1718, 1719, 1722, 1724, 1728, 1736, 1737, 1738, 1739, 1740, 1741, 1742, 1744, 1747, 1748, 1749, 1750, 1752, 1755, 1756, 1757, 1759, 1761, 1766, 1770, 1771, 1772, 1773, 1774, 1779, 1780, 1783, 1784, 1785, 1786, 1790, 1793, 1796, 1797, 1800, 1801, 1805, 1806, 1807, 1809, 1811, 1812, 1813, 1814, 1815, 1817, 1818, 1820, 1824, 1826, 1829, 1831, 1832, 1833, 1834, 1835, 1836, 1837, 1838, 1839, 1841, 1843, 1845, 1846, 1847, 1849, 1850, 1851, 1853, 1855, 1856, 1858, 1859, 1860, 1863, 1864, 1871, 1872, 1874, 1875, 1879, 1880, 1882, 1891, 1892, 1893, 1896, 1897, 1898, 1901, 1903, 1904, 1905, 1906, 1907, 1908, 1910, 1911, 1913, 1914, 1915, 1917, 1919, 1920, 1921, 1926, 1927, 1929, 1930, 1931, 1932, 1935, 1938, 1939, 1940, 1944, 1946, 1950, 1951, 1953, 1955, 1957, 1959, 1961, 1964, 1965, 1966, 1969, 1970, 1971, 1972, 1973, 1975, 1976, 1978, 1980, 1981, 1984, 1985, 1986, 1989, 1990, 1991, 1992, 1993, 1994, 1996, 1998, 2002, 2008, 2010, 2013, 2014, 2016, 2017, 2019, 2021, 2022, 2023, 2024, 2026, 2027, 2028, 2029, 2031, 2032, 2034, 2035, 2036, 2039, 2041, 2045, 2046, 2049, 2050, 2053, 2054, 2057, 2058, 2060, 2063, 2064, 2065, 2066, 2068, 2072, 2073, 2074, 2075, 2076, 2077, 2078, 2080, 2085, 2088, 2091, 2093, 2095, 2097, 2098, 2099, 2100, 2105, 2106, 2108, 2109, 2110, 2112, 2113, 2114, 2117, 2118, 2121, 2122, 2125, 2126, 2128, 2129, 2131, 2133, 2134, 2135, 2137, 2138, 2141, 2142, 2143, 2144, 2145, 2146, 2148, 2151, 2152, 2154, 2156, 2157, 2158, 2159, 2162, 2164, 2165, 2169, 2172, 2176, 2177, 2178, 2179, 2181, 2190, 2192, 2193, 2194, 2195, 2196, 2199, 2202, 2203, 2206, 2208, 2209, 2211, 2215, 2216, 2217, 2218, 2219, 2220, 2221, 2222, 2223, 2224, 2225, 2227, 2228, 2229, 2231, 2234, 2235, 2237, 2238, 2241, 2245, 2252, 2253, 2254, 2255, 2256, 2259, 2261, 2262, 2263, 2265, 2266, 2267, 2268, 2269, 2270, 2271, 2273, 2276, 2279, 2282, 2285, 2286, 2288, 2289, 2291, 2293, 2294, 2296, 2299, 2300, 2303, 2304, 2305, 2306, 2311, 2312, 2313, 2314, 2315, 2316, 2317, 2318, 2328, 2329, 2333, 2334, 2336, 2339, 2344, 2345, 2346, 2348, 2349, 2350, 2351, 2352, 2354, 2356, 2357, 2359, 2360, 2363, 2364, 2365, 2366, 2369, 2372, 2373, 2374, 2375, 2377, 2378, 2379, 2382, 2383, 2384, 2389, 2390, 2392, 2394, 2395, 2396, 2399, 2400, 2401, 2402, 2403, 2404, 2406, 2408, 2411, 2412, 2414, 2415, 2416, 2418, 2419, 2421, 2423, 2424, 2425, 2430, 2431, 2433, 2435, 2437, 2439, 2441, 2442, 2443, 2444, 2448, 2450, 2451, 2453, 2454, 2455, 2458, 2463, 2469, 2471, 2473, 2475, 2476, 2477, 2479, 2481, 2482, 2484, 2486, 2488, 2490, 2491, 2492, 2496, 2498, 2499, 2500, 2502, 2504, 2505, 2506, 2507, 2509, 2510, 2514, 2515, 2519, 2521, 2524, 2525, 2526, 2527, 2529, 2531, 2533, 2535, 2537, 2538, 2539, 2541, 2542, 2543, 2544, 2545, 2547, 2550, 2551, 2552, 2553, 2555, 2558, 2561, 2563, 2564, 2566, 2567, 2568, 2571, 2574, 2576, 2577, 2578, 2580, 2581, 2582, 2583, 2585, 2586, 2588, 2590, 2591, 2592, 2594, 2595, 2596, 2598, 2601, 2603, 2605, 2607, 2608, 2611, 2613, 2615, 2617, 2619, 2620, 2621, 2622, 2623, 2624, 2625, 2626, 2627, 2629, 2630, 2632, 2633, 2635, 2638, 2642, 2643, 2644, 2647, 2648, 2650, 2652, 2654, 2657, 2659, 2663, 2665, 2667, 2670, 2672, 2673, 2674, 2675, 2677, 2679, 2684, 2689, 2690, 2694, 2695, 2698, 2699, 2700, 2701, 2702, 2703, 2706, 2707, 2711, 2714, 2716, 2719, 2720, 2723, 2724, 2725, 2726, 2727, 2730, 2731, 2732, 2733, 2736, 2738, 2739, 2742, 2745, 2746, 2750, 2751, 2752, 2754, 2756, 2757, 2760, 2763, 2764, 2765, 2767, 2768, 2771, 2774, 2779, 2786, 2787, 2788, 2790, 2791, 2797, 2799, 2803, 2804, 2807, 2808, 2809, 2810, 2813, 2814, 2815, 2820, 2821, 2823, 2824, 2825, 2826, 2827, 2828, 2830, 2832, 2833, 2838, 2839, 2841, 2842, 2843, 2844, 2846, 2849, 2851, 2853, 2857, 2858, 2859, 2862, 2863, 2864, 2865, 2869, 2870, 2873, 2876, 2877, 2880, 2881, 2882, 2885, 2886, 2888, 2892, 2894, 2897, 2899, 2901, 2906, 2908, 2909, 2910, 2912, 2913, 2914, 2915, 2916, 2917, 2919, 2921, 2923, 2926, 2927, 2928, 2929, 2931, 2933, 2934, 2935, 2938, 2939, 2940, 2942, 2945, 2946, 2949, 2950, 2953, 2954, 2956, 2960, 2961, 2963, 2964, 2966, 2968, 2970, 2973, 2975, 2976, 2979, 2980, 2981, 2982, 2983, 2987, 2989, 2990, 2991, 2993, 2994, 2995, 2996, 2997, 2998, 3002, 3003, 3004, 3008, 3009, 3011, 3013, 3020, 3021, 3022, 3026, 3027, 3028, 3029, 3031, 3034, 3037, 3041, 3042, 3044, 3046, 3047, 3048, 3049, 3050, 3051, 3059, 3060, 3061, 3063, 3066, 3069, 3071, 3073, 3074, 3075, 3076, 3077, 3078, 3079, 3080, 3085, 3087, 3092, 3093, 3094, 3095, 3097, 3098, 3100, 3106, 3109, 3111, 3112, 3114, 3115, 3123, 3125, 3126, 3130, 3131, 3132, 3138, 3140, 3142, 3144, 3145, 3146, 3152, 3153, 3154, 3155, 3159, 3160, 3161, 3162, 3163, 3165, 3166, 3171, 3172, 3174, 3175, 3176, 3178, 3179, 3180, 3183, 3184, 3185, 3186, 3190, 3192, 3193, 3195, 3196, 3198, 3200, 3201, 3202, 3203, 3204, 3205, 3206, 3207, 3208, 3210, 3212, 3214, 3218, 3219, 3220, 3221, 3225, 3229, 3231, 3232, 3234, 3237, 3239, 3240, 3241, 3242, 3243, 3244, 3246, 3247, 3248, 3251, 3252, 3253, 3254, 3255, 3257, 3258, 3259, 3260, 3261, 3263, 3265, 3268, 3269, 3272, 3273, 3275, 3276, 3279, 3283, 3284, 3286, 3287, 3288, 3293, 3298, 3299, 3300, 3301, 3302, 3303, 3304, 3307, 3310, 3311, 3314, 3318, 3319, 3320, 3322, 3326, 3327, 3328, 3329, 3331, 3333, 3334, 3336, 3337, 3338, 3339, 3340, 3341, 3343, 3345, 3348, 3351, 3352, 3355, 3356, 3357, 3359, 3360, 3361, 3362, 3363, 3364, 3367, 3368, 3369, 3371, 3373, 3374, 3375, 3377, 3378, 3384, 3388, 3390, 3393, 3394, 3397, 3402, 3404, 3406, 3409, 3412, 3413, 3414, 3415, 3416, 3418, 3419, 3420, 3423, 3425, 3429, 3430, 3431, 3432, 3433, 3434, 3438, 3442, 3444, 3445, 3446, 3448, 3449, 3450, 3453, 3454, 3455, 3458, 3459, 3462, 3463, 3464, 3465, 3468, 3469, 3471, 3472, 3476, 3479, 3480, 3484, 3485, 3486, 3488, 3489, 3491, 3492, 3493, 3495, 3498, 3499, 3500, 3501, 3502, 3503, 3507, 3508, 3509, 3510, 3511, 3514, 3515, 3516, 3517, 3521, 3524, 3525, 3526, 3527, 3530, 3531, 3533, 3534, 3536, 3538, 3540, 3541, 3546, 3549, 3550, 3551, 3552, 3556, 3558, 3559, 3561, 3563, 3565, 3566, 3567, 3574, 3575, 3579, 3580, 3582, 3584, 3585, 3586, 3588, 3589, 3590, 3592, 3593, 3594, 3595, 3596, 3599, 3600, 3601, 3602, 3603, 3604, 3608, 3610, 3611, 3613, 3614, 3615, 3617, 3619, 3620, 3621, 3622, 3623, 3625, 3629, 3630, 3631, 3632, 3635, 3636, 3639, 3641, 3642, 3643, 3645, 3650, 3651, 3652, 3657, 3658, 3659, 3660, 3661, 3664, 3665, 3667, 3668, 3672, 3673, 3674, 3676, 3677, 3679, 3680, 3682, 3683, 3684, 3687, 3691, 3693, 3694, 3696, 3699, 3704, 3708, 3709, 3712, 3713, 3715, 3716, 3717, 3719, 3721, 3724, 3726, 3728, 3729, 3731, 3732, 3733, 3734, 3741, 3743, 3745, 3749, 3751, 3752, 3754, 3756, 3758, 3764, 3765, 3767, 3771, 3772, 3773, 3775, 3776, 3779, 3781, 3784, 3785, 3786, 3787, 3788, 3789, 3792, 3793, 3796, 3797, 3799, 3801, 3802, 3804, 3806, 3808, 3812, 3815, 3816, 3817, 3818, 3821, 3822, 3823, 3825, 3827, 3828, 3831, 3833, 3835, 3836, 3838, 3842, 3845, 3850, 3851, 3853, 3855, 3857, 3858, 3859, 3860, 3863, 3864, 3866, 3867, 3868, 3869, 3870, 3873, 3876, 3878, 3880, 3881, 3884, 3885, 3888, 3889, 3891, 3892, 3893, 3896, 3898, 3899, 3902, 3904, 3905, 3906, 3907, 3908, 3912, 3916, 3920, 3921, 3922, 3925, 3927, 3929, 3930, 3932, 3933, 3935, 3936, 3938, 3939, 3940, 3944, 3948, 3950, 3953, 3955, 3956, 3959, 3960, 3962, 3964, 3965, 3966, 3967, 3969, 3970, 3973, 3974, 3975, 3976, 3979, 3983, 3984, 3985, 3988, 3989, 3990, 3991, 3992, 3993, 3994, 3995, 3997, 3998, 4000, 4001, 4003, 4004, 4006, 4008, 4009, 4013, 4015, 4017, 4018, 4019, 4020, 4021, 4024, 4025, 4027, 4028, 4029, 4030, 4031, 4032, 4033, 4038, 4040, 4045, 4046, 4050, 4051, 4053, 4055, 4056, 4061, 4065, 4067, 4072, 4075, 4076, 4078, 4080, 4081, 4084, 4085, 4089, 4090, 4091, 4092, 4094, 4095, 4096, 4097, 4098, 4099, 4101, 4103, 4104, 4107, 4108, 4111, 4113, 4114, 4116, 4126, 4127, 4128, 4129, 4131, 4134, 4138, 4139, 4141, 4143, 4146, 4148, 4149, 4150, 4152, 4153, 4155, 4157, 4158, 4159, 4160, 4161, 4162, 4163, 4164, 4165, 4168, 4169, 4171, 4172, 4173, 4175, 4176, 4178, 4179, 4182, 4185, 4187, 4191, 4192, 4195, 4197, 4199, 4200, 4202, 4203, 4204, 4206, 4207, 4212, 4216, 4217, 4219, 4221, 4223, 4225, 4226, 4227, 4228, 4229, 4233, 4234, 4235, 4236, 4237, 4238, 4241, 4242, 4243, 4244, 4251, 4252, 4253, 4254, 4255, 4256, 4257, 4258, 4259, 4260, 4261, 4263, 4264, 4269, 4270, 4271, 4272, 4274, 4275, 4276, 4277, 4278, 4282, 4283, 4284, 4285, 4286, 4287, 4288, 4290, 4292, 4295, 4297, 4298, 4305, 4307, 4308, 4309, 4311, 4315, 4317, 4318, 4319, 4322, 4323, 4324, 4332, 4335, 4336, 4337, 4340, 4341, 4342, 4343, 4347, 4348, 4350, 4353, 4357, 4358, 4359, 4360, 4361, 4365, 4366, 4367, 4369, 4370, 4371, 4372, 4375, 4379, 4381, 4385, 4387, 4388, 4389, 4394, 4396, 4397, 4399, 4402, 4403, 4404, 4405, 4406, 4407, 4408, 4415, 4416, 4417, 4418, 4421, 4422, 4423, 4424, 4425, 4426, 4430, 4431, 4433, 4434, 4435, 4437, 4439, 4440, 4441, 4442, 4444, 4445, 4446, 4447, 4448, 4449, 4452, 4454, 4455, 4462, 4463, 4465, 4470, 4472, 4477, 4481, 4483, 4488, 4491, 4492, 4493, 4494, 4498, 4499, 4501, 4502, 4504, 4507, 4508, 4509, 4510, 4511, 4512, 4514, 4520, 4523, 4524, 4526, 4527, 4528, 4530, 4531, 4534, 4535, 4537, 4539, 4541, 4542, 4544, 4545, 4548, 4550, 4553, 4556, 4560, 4561, 4562, 4563, 4564, 4565, 4566, 4568, 4569, 4572, 4573, 4575, 4576, 4578, 4579, 4580, 4581, 4582, 4584, 4585, 4586, 4587, 4588, 4589, 4590, 4592, 4597, 4598, 4600, 4603, 4604, 4605, 4606, 4607, 4608, 4609, 4613, 4615, 4620, 4621, 4622, 4623, 4624, 4626, 4627, 4629, 4631, 4633, 4634, 4639, 4640, 4641, 4642, 4648, 4654, 4656, 4658, 4661, 4664, 4668, 4669, 4670, 4673, 4675, 4681, 4682, 4685, 4686, 4687, 4689, 4690, 4691, 4692, 4695, 4696, 4697, 4699, 4704, 4707, 4709, 4712, 4713, 4714, 4715, 4716, 4717, 4718, 4719, 4723, 4724, 4725, 4727, 4728, 4729, 4731, 4734, 4735, 4737, 4738, 4740, 4741, 4749, 4750, 4751, 4754, 4755, 4756, 4757, 4762, 4768, 4770, 4771, 4772, 4774, 4775, 4779, 4780, 4781, 4782, 4788, 4789, 4791, 4794, 4795, 4798, 4799, 4800, 4801, 4805, 4806, 4808, 4809, 4814, 4815, 4816, 4817, 4818, 4821, 4823, 4824, 4827, 4828, 4831, 4832, 4833, 4836, 4838, 4845, 4846, 4847, 4848, 4849, 4851, 4852, 4854, 4860, 4861, 4862, 4863, 4864, 4865, 4868, 4869, 4870, 4873, 4874, 4876, 4878, 4879, 4880, 4883, 4884, 4888, 4889, 4890, 4894, 4897, 4898, 4899, 4900, 4902, 4904, 4905, 4907, 4910, 4911, 4912, 4914, 4915, 4917, 4918, 4919, 4920, 4923, 4924, 4925, 4926, 4928, 4931, 4934, 4935, 4936, 4937, 4940, 4941, 4942, 4943, 4946, 4949, 4950, 4951, 4959, 4961, 4963, 4967, 4968, 4972, 4973, 4974, 4975, 4977, 4980, 4983, 4984, 4986, 4987, 4989, 4990, 4991, 4995, 4999, 5000, 5003, 5007, 5008, 5009, 5010, 5012, 5016, 5017, 5018, 5019, 5021, 5025, 5026, 5027, 5028, 5029, 5031, 5032, 5033, 5034, 5036, 5037, 5038, 5043, 5044, 5047, 5051, 5056, 5057, 5058, 5059, 5061, 5064, 5068, 5069, 5072, 5075, 5081, 5084, 5093, 5097, 5099, 5100, 5103, 5105, 5106, 5107, 5108, 5111, 5115, 5116, 5118, 5119, 5122, 5124, 5125, 5132, 5133, 5136, 5137, 5139, 5145, 5149, 5153, 5154, 5155, 5157, 5158, 5161, 5162, 5164, 5165, 5166, 5167, 5172, 5179, 5180, 5181, 5183, 5185, 5188, 5190, 5191, 5193, 5195, 5197, 5199, 5201, 5208, 5209, 5210, 5214, 5215, 5217, 5219, 5223, 5225, 5229, 5230, 5231, 5233, 5235, 5236, 5239, 5241, 5242, 5243, 5246, 5250, 5252, 5253, 5254, 5256, 5257, 5258, 5259, 5260, 5262, 5264, 5270, 5274, 5276, 5277, 5281, 5282, 5283, 5287, 5289, 5292, 5294, 5295, 5297, 5300, 5303, 5306, 5307, 5308, 5309, 5311, 5313, 5314, 5315, 5317, 5319, 5320, 5322, 5326, 5327, 5329, 5330, 5332, 5333, 5334, 5335, 5337, 5338, 5339, 5341, 5342, 5345, 5348, 5350, 5355, 5358, 5360, 5364, 5365, 5367, 5368, 5373, 5374, 5377, 5379, 5380, 5382, 5384, 5387, 5389, 5390, 5392, 5393, 5394, 5395, 5397, 5401, 5403, 5404, 5405, 5407, 5408, 5409, 5410, 5413, 5416, 5419, 5420, 5423, 5425, 5431, 5432, 5433, 5438, 5439, 5441, 5442, 5443, 5444, 5447, 5448, 5449, 5451, 5453, 5454, 5455, 5457, 5458, 5459, 5463, 5466, 5467, 5470, 5471, 5472, 5473, 5477, 5479, 5480, 5481, 5483, 5485, 5486, 5489, 5490, 5495, 5499, 5503, 5505, 5509, 5510, 5512, 5513, 5514, 5515, 5518, 5520, 5521, 5522, 5525, 5528, 5529, 5531, 5532, 5535, 5539, 5540, 5541, 5542, 5545, 5547, 5548, 5549, 5551, 5553, 5558, 5559, 5561, 5562, 5563, 5564, 5565, 5572, 5573, 5574, 5575, 5577, 5578, 5581, 5582, 5583, 5584, 5585, 5589, 5592, 5593, 5594, 5597, 5600, 5601, 5602, 5604, 5605, 5610, 5613, 5614, 5616, 5618, 5619, 5620, 5621, 5622, 5623, 5625, 5626, 5627, 5628, 5629, 5631, 5632, 5633, 5635, 5636, 5640, 5642, 5644, 5647, 5651, 5652, 5653, 5658, 5659, 5661, 5662, 5665, 5670, 5671, 5673, 5674, 5676, 5677, 5678, 5679, 5685, 5687, 5688, 5690, 5691, 5693, 5694, 5695, 5697, 5698, 5699, 5700, 5701, 5702, 5707, 5709, 5710, 5711, 5712, 5714, 5717, 5720, 5721, 5722, 5725, 5726, 5727, 5729, 5730, 5732, 5733, 5734, 5736, 5737, 5738, 5740, 5741, 5743, 5744, 5746, 5749, 5751, 5754, 5755, 5756, 5758, 5761, 5762, 5763, 5764, 5766, 5767, 5769, 5770, 5773, 5777, 5778, 5779, 5781, 5785, 5788, 5789, 5792, 5793, 5794, 5797, 5798, 5802, 5804, 5806, 5808, 5809, 5811, 5814, 5817, 5818, 5819, 5823, 5825, 5828, 5829, 5830, 5836, 5837, 5838, 5839, 5841, 5845, 5849, 5851, 5852, 5853, 5857, 5858, 5859, 5860, 5862, 5863, 5864, 5865, 5868, 5871, 5872, 5874, 5875, 5878, 5880, 5881, 5882, 5883, 5884, 5886, 5890, 5892, 5893, 5894, 5897, 5899, 5902, 5904, 5905, 5906, 5908, 5909, 5910, 5913, 5914, 5915, 5916, 5917, 5919, 5920, 5924, 5926, 5928, 5931, 5933, 5936, 5937, 5939, 5947, 5949, 5950, 5951, 5953, 5954, 5955, 5957, 5960, 5962, 5965, 5968, 5969, 5970, 5972, 5973, 5975, 5978, 5980, 5981, 5983, 5986, 5987, 5988, 5991, 5992, 5997, 6000, 6002, 6006, 6007, 6008, 6009, 6012, 6015, 6016, 6017, 6019, 6020, 6021, 6022, 6023, 6024, 6025, 6026, 6028, 6029, 6032, 6034, 6035, 6036, 6037, 6040, 6043, 6045, 6046, 6048, 6054, 6056, 6058, 6060, 6061, 6062, 6063, 6067, 6068, 6070, 6075, 6076, 6077, 6078, 6079, 6080, 6081, 6082, 6084, 6086, 6087, 6088, 6089, 6090, 6091, 6096, 6097, 6100, 6101, 6104, 6106, 6108, 6109, 6110, 6111, 6112, 6114, 6117, 6119, 6120, 6125, 6126, 6127, 6128, 6130, 6131, 6132, 6133, 6135, 6136, 6137, 6140, 6142, 6143, 6144, 6145, 6146, 6147, 6151, 6153, 6154, 6156, 6157, 6159, 6161, 6163, 6165, 6167, 6168, 6172, 6174, 6175, 6176, 6180, 6181, 6183, 6187, 6189, 6192, 6193, 6194, 6195, 6197, 6198, 6199, 6201, 6204, 6205, 6206, 6207, 6209, 6210, 6213, 6214, 6220, 6224, 6225, 6226, 6228, 6235, 6237, 6239, 6241, 6242, 6243, 6244, 6245, 6246, 6247, 6249, 6250, 6253, 6255, 6257, 6259, 6260, 6261, 6262, 6263, 6264, 6265, 6266, 6267, 6268, 6270, 6273, 6274, 6276, 6277, 6280, 6281, 6284, 6285, 6287, 6288, 6289, 6290, 6292, 6293, 6295, 6297, 6298, 6304, 6305, 6307, 6308, 6314, 6315, 6317, 6318, 6319, 6320, 6321, 6323, 6324, 6330, 6332, 6334, 6337, 6339, 6340, 6343, 6344, 6345, 6346, 6349, 6351, 6352, 6353, 6354, 6357, 6358, 6359, 6360, 6361, 6364, 6365, 6366, 6367, 6368, 6369, 6374, 6380, 6382, 6384, 6385, 6386, 6387, 6391, 6393, 6398, 6399, 6404, 6406, 6407, 6408, 6409, 6411, 6414, 6415, 6417, 6418, 6419, 6420, 6423, 6424, 6426, 6427, 6428, 6430, 6432, 6434, 6435, 6436, 6437, 6438, 6439, 6441, 6442, 6445, 6448, 6449, 6453, 6454, 6455, 6457, 6459, 6460, 6461, 6463, 6464, 6465, 6467, 6468, 6472, 6473, 6478, 6479, 6480, 6481, 6482, 6483, 6486, 6487, 6492, 6493, 6495, 6496, 6497, 6498, 6505, 6507, 6509, 6511, 6512, 6513, 6514, 6515, 6519, 6520, 6521, 6522, 6526, 6527, 6530, 6531, 6532, 6533, 6534, 6535, 6536, 6538, 6540, 6543, 6550, 6551, 6554, 6559, 6561, 6562, 6563, 6566, 6568, 6570, 6572, 6574, 6576, 6580, 6583, 6584, 6587, 6588, 6589, 6591, 6595, 6597, 6599, 6600, 6603, 6605, 6607, 6611, 6612, 6613, 6614, 6616, 6617, 6618, 6620, 6622, 6623, 6625, 6628, 6631, 6632, 6633, 6634, 6636, 6637, 6638, 6640, 6643, 6645, 6646, 6647, 6648, 6649, 6650, 6652, 6656, 6659, 6662, 6663, 6664, 6667, 6668, 6672, 6675, 6676, 6677, 6679, 6681, 6682, 6685, 6686, 6688, 6689, 6690, 6693, 6694, 6695, 6697, 6700, 6701, 6705, 6706, 6707, 6709, 6712, 6713, 6714, 6716, 6718, 6719, 6731, 6734, 6736, 6739, 6740, 6741, 6744, 6745, 6747, 6748, 6750, 6752, 6753, 6756, 6757, 6758, 6762, 6765, 6766, 6767, 6768, 6769, 6770, 6772, 6776, 6778, 6779, 6780, 6781, 6782, 6784, 6785, 6786, 6788, 6789, 6790, 6791, 6792, 6793, 6795, 6796, 6798, 6799, 6800, 6801, 6802, 6809, 6810, 6812, 6815, 6816, 6817, 6818, 6819, 6821, 6824, 6825, 6826, 6828, 6829, 6830, 6832, 6834, 6837, 6838, 6839, 6840, 6841, 6843, 6844, 6845, 6846, 6850, 6851, 6854, 6855, 6856, 6857, 6860, 6863, 6865, 6868, 6869, 6872, 6873, 6874, 6876, 6878, 6882, 6883, 6884, 6885, 6889, 6890, 6893, 6896, 6897, 6898, 6899, 6902, 6905, 6906, 6911, 6912, 6913, 6915, 6916, 6919, 6920, 6922, 6923, 6924, 6925, 6926, 6927, 6929, 6930, 6932, 6934, 6936, 6938, 6939, 6941, 6942, 6943, 6946, 6947, 6948, 6949, 6950, 6951, 6952, 6961, 6963, 6964, 6965, 6966, 6967, 6968, 6969, 6971, 6975, 6978, 6982, 6983, 6984, 6985, 6986, 6987, 6988, 6991, 6993, 6996, 6999, 7001, 7002, 7004, 7005, 7007, 7008, 7009, 7011, 7012, 7013, 7014, 7016, 7017, 7018, 7020, 7023, 7025, 7026, 7027, 7029, 7031, 7032, 7036, 7038, 7040, 7045, 7047, 7048, 7050, 7052, 7053, 7054, 7055, 7056, 7059, 7061, 7062, 7063, 7065, 7066, 7067, 7070, 7071, 7076, 7077, 7079, 7080, 7082, 7084, 7085, 7086, 7091, 7093, 7095, 7097, 7104, 7108, 7110, 7111, 7113, 7115, 7116, 7117, 7121, 7122, 7124, 7125, 7126, 7127, 7128, 7134, 7135, 7138, 7140, 7141, 7145, 7146, 7147, 7150, 7153, 7154, 7155, 7157, 7159, 7160, 7164, 7166, 7170, 7171, 7172, 7174, 7175, 7176, 7178, 7181, 7182, 7185, 7186, 7187, 7188, 7191, 7195, 7196, 7197, 7198, 7199, 7201, 7203, 7205, 7206, 7207, 7212, 7218, 7219, 7220, 7223, 7226, 7228, 7229, 7231, 7232, 7233, 7239, 7240, 7241, 7242, 7243, 7244, 7246, 7250, 7253, 7258, 7259, 7260, 7261, 7262, 7266, 7267, 7269, 7270, 7271, 7277, 7278, 7279, 7280, 7282, 7284, 7286, 7287, 7289, 7291, 7294, 7298, 7299, 7300, 7301, 7302, 7303, 7304, 7306, 7308, 7309, 7312, 7313, 7317, 7318, 7321, 7326, 7328, 7330, 7331, 7333, 7334, 7335, 7337, 7338, 7339, 7341, 7342, 7343, 7344, 7345, 7346, 7347, 7348, 7349, 7351, 7353, 7354, 7355, 7357, 7358, 7360, 7361, 7362, 7364, 7367, 7368, 7369, 7372, 7374, 7375, 7376, 7377, 7379, 7380, 7386, 7389, 7391, 7392, 7396, 7397, 7399, 7403, 7409, 7411, 7412, 7413, 7414, 7415, 7416, 7417, 7418, 7419, 7420, 7421, 7426, 7429, 7430, 7433, 7434, 7435, 7437, 7438, 7439, 7440, 7442, 7443, 7444, 7445, 7447, 7450, 7451, 7456, 7457, 7458, 7459, 7463, 7466, 7468, 7469, 7471, 7475, 7476, 7477, 7479, 7481, 7485, 7486, 7487, 7490, 7491, 7492, 7496, 7498, 7499, 7505, 7506, 7508, 7509, 7510, 7512, 7513, 7514, 7515, 7517, 7519, 7522, 7524, 7525, 7526, 7528, 7529, 7530, 7531, 7532, 7535, 7543, 7545, 7548, 7549, 7555, 7556, 7557, 7559, 7560, 7562, 7563, 7564, 7568, 7572, 7574, 7577, 7579, 7581, 7582, 7583, 7585, 7587, 7589, 7595, 7599, 7600, 7601, 7602, 7605, 7607, 7608, 7610, 7612, 7613, 7618, 7619, 7620, 7622, 7623, 7626, 7628, 7630, 7632, 7633, 7634, 7636, 7640, 7642, 7643, 7644, 7646, 7649, 7653, 7655, 7657, 7659, 7660, 7662, 7663, 7665, 7667, 7670, 7671, 7673, 7677, 7681, 7684, 7685, 7686, 7688, 7691, 7692, 7693, 7694, 7697, 7702, 7703, 7704, 7706, 7709, 7710, 7711, 7712, 7714, 7716, 7720, 7723, 7724, 7726, 7728, 7731, 7732, 7733, 7734, 7735, 7738, 7739, 7741, 7743, 7744, 7745, 7746, 7749, 7750, 7752, 7753, 7754, 7756, 7762, 7768, 7769, 7774, 7775, 7778, 7779, 7780, 7782, 7783, 7785, 7786, 7790, 7791, 7792, 7794, 7796, 7800, 7803, 7805, 7808, 7811, 7814, 7816, 7817, 7818, 7821, 7823, 7825, 7826, 7830, 7831, 7832, 7833, 7835, 7839, 7841, 7844, 7845, 7846, 7848, 7850, 7851, 7853, 7858, 7859, 7860, 7862, 7863, 7865, 7866, 7867, 7869, 7870, 7871, 7872, 7873, 7874, 7875, 7876, 7877, 7878, 7879, 7882, 7883, 7884, 7885, 7887, 7888, 7890, 7892, 7897, 7898, 7899, 7900, 7903, 7904, 7906, 7907, 7908, 7909, 7914, 7915, 7918, 7925, 7927, 7928, 7930, 7931, 7934, 7935, 7940, 7941, 7943, 7944, 7947, 7948, 7949, 7950, 7951, 7953, 7957, 7958, 7959, 7960, 7964, 7965, 7968, 7969, 7970, 7971, 7972, 7973, 7974, 7975, 7976, 7979, 7980, 7981, 7983, 7985, 7988, 7989, 7990, 7992, 7994, 7998, 7999, 8004, 8006, 8007, 8009, 8011, 8012, 8015, 8016, 8018, 8019, 8020, 8021, 8024, 8026, 8028, 8032, 8034, 8035, 8036, 8037, 8038, 8041, 8044, 8045, 8046, 8047, 8048, 8051, 8052, 8053, 8055, 8056, 8057, 8058, 8059, 8061, 8065, 8070, 8071, 8075, 8078, 8079, 8082, 8083, 8084, 8086, 8088, 8089, 8091, 8092, 8094, 8095, 8098, 8100, 8103, 8106, 8107, 8110, 8113, 8115, 8117, 8118, 8119, 8120, 8121, 8122, 8124, 8125, 8127, 8131, 8132, 8136, 8137, 8142, 8143, 8145, 8147, 8149, 8150, 8152, 8153, 8156, 8157, 8158, 8159, 8161, 8162, 8164, 8167, 8168, 8169, 8172, 8174, 8178, 8181, 8182, 8186, 8187, 8189, 8191, 8194, 8196, 8197, 8200, 8201, 8205, 8206, 8209, 8210, 8211, 8212, 8215, 8216, 8217, 8218, 8219, 8221, 8223, 8224, 8226, 8228, 8229, 8230, 8231, 8232, 8233, 8236, 8238, 8240, 8242, 8244, 8247, 8251, 8253, 8254, 8257, 8259, 8260, 8261, 8263, 8265, 8266, 8267, 8268, 8269, 8271, 8272, 8273, 8276, 8278, 8279, 8280, 8285, 8290, 8293, 8294, 8299, 8300, 8301, 8302, 8304, 8308, 8311, 8312, 8313, 8315, 8316, 8317, 8320, 8321, 8322, 8325, 8327, 8328, 8330, 8331, 8332, 8333, 8335, 8336, 8339, 8346, 8347, 8348, 8353, 8355, 8357, 8358, 8360, 8364, 8365, 8366, 8367, 8369, 8371, 8373, 8376, 8377, 8379, 8380, 8382, 8386, 8387, 8388, 8389, 8391, 8392, 8394, 8395, 8396, 8397, 8398, 8399, 8400, 8402, 8404, 8405, 8411, 8412, 8418, 8421, 8422, 8425, 8427, 8428, 8429, 8430, 8435, 8438, 8441, 8443, 8444, 8445, 8446, 8448, 8452, 8453, 8454, 8455, 8457, 8458, 8459, 8461, 8465, 8466, 8468, 8469, 8471, 8474, 8477, 8480, 8481, 8482, 8487, 8488, 8489, 8490, 8495, 8498, 8500, 8501, 8504, 8505, 8506, 8508, 8509, 8511, 8514, 8516, 8517, 8518, 8520, 8521, 8522, 8523, 8525, 8526, 8527, 8528, 8530, 8531, 8532, 8534, 8535, 8537, 8539, 8540, 8542, 8544, 8545, 8547, 8548, 8549, 8550, 8552, 8553, 8554, 8555, 8560, 8562, 8563, 8564, 8565, 8566, 8568, 8569, 8571, 8572, 8573, 8574, 8576, 8578, 8579, 8580, 8582, 8583, 8584, 8586, 8591, 8593, 8594, 8595, 8596, 8603, 8605, 8606, 8609, 8611, 8612, 8614, 8617, 8619, 8626, 8627, 8630, 8635, 8636, 8637, 8638, 8640, 8641, 8642, 8645, 8646, 8648, 8649, 8650, 8652, 8653, 8656, 8657, 8659, 8660, 8667, 8668, 8671, 8672, 8674, 8675, 8676, 8678, 8679, 8680, 8683, 8685, 8686, 8691, 8692, 8694, 8695, 8696, 8697, 8700, 8701, 8702, 8704, 8709, 8710, 8711, 8713, 8714, 8715, 8717, 8718, 8719, 8720, 8721, 8722, 8723, 8727, 8728, 8730, 8731, 8734, 8736, 8737, 8739, 8742, 8744, 8747, 8748, 8749, 8750, 8755, 8757, 8758, 8761, 8765, 8767, 8768, 8769, 8774, 8775, 34, 41, 43, 84, 109, 113, 128, 137, 147, 179, 224, 238, 243, 267, 334, 341, 342, 387, 537, 567, 609, 614, 709, 731, 786, 795, 837, 895, 901, 909, 925, 939, 948, 955, 957, 990, 1002, 1017, 1018, 1035, 1037, 1053, 1123, 1128, 1131, 1154, 1155, 1200, 1222, 1280, 1289, 1324, 1342, 1351, 1391, 1440, 1491, 1516, 1525, 1617, 1632, 1651, 1714, 1729, 1743, 1745, 1751, 1775, 1782, 1822, 1828, 1840, 1854, 1885, 1909, 1962, 1974, 2001, 2025, 2043, 2096, 2101, 2183, 2260, 2272, 2298, 2327, 2341, 2353, 2385, 2409, 2427, 2465, 2474, 2530, 2634, 2664, 2668, 2705, 2740, 2747, 2770, 2831, 2837, 2860, 2902, 3005, 3016, 3023, 3064, 3083, 3086, 3088, 3102, 3129, 3151, 3187, 3209, 3222, 3238, 3262, 3278, 3289, 3294, 3325, 3344, 3365, 3440, 3481, 3497, 3520, 3528, 3535, 3553, 3578, 3607, 3634, 3638, 3705, 3714, 3742, 3774, 3790, 3832, 3834, 3849, 3856, 3862, 3865, 3872, 3919, 3931, 3934, 3951, 3999, 4005, 4007, 4035, 4036, 4083, 4109, 4124, 4125, 4166, 4231, 4232, 4240, 4301, 4330, 4331, 4368, 4377, 4392, 4412, 4453, 4485, 4570, 4616, 4619, 4636, 4647, 4650, 4655, 4672, 4679, 4708, 4722, 4759, 4820, 4839, 4840, 4856, 4857, 4895, 4948, 4965, 4982, 4988, 4994, 4996, 5039, 5080, 5083, 5098, 5138, 5163, 5196, 5200, 5221, 5275, 5279, 5310, 5325, 5336, 5343, 5346, 5352, 5386, 5402, 5488, 5524, 5534, 5536, 5537, 5603, 5624, 5648, 5660, 5706, 5708, 5724, 5745, 5783, 5800, 5805, 5807, 5832, 5846, 5848, 5854, 5867, 5877, 5895, 5907, 5940, 5945, 5974, 5998, 6038, 6094, 6115, 6158, 6179, 6188, 6208, 6215, 6217, 6218, 6272, 6279, 6301, 6327, 6329, 6370, 6377, 6379, 6389, 6405, 6444, 6446, 6462, 6476, 6484, 6489, 6494, 6510, 6556, 6560, 6610, 6665, 6671, 6726, 6746, 6760, 6777, 6805, 6814, 6823, 6835, 6864, 6900, 6917, 6956, 6981, 7073, 7098, 7142, 7144, 7169, 7192, 7200, 7213, 7224, 7265, 7307, 7381, 7384, 7425, 7431, 7448, 7482, 7488, 7527, 7542, 7570, 7590, 7593, 7638, 7652, 7675, 7683, 7717, 7721, 7764, 7773, 7797, 7834, 7837, 7896, 7912, 7942, 7967, 8014, 8022, 8039, 8066, 8072, 8087, 8093, 8108, 8116, 8129, 8139, 8151, 8170, 8177, 8195, 8214, 8222, 8227, 8264, 8283, 8413, 8420, 8424, 8432, 8436, 8440, 8478, 8513, 8556, 8561, 8677, 8732, 8735]\n",
            "================================================\n",
            "PerStatus\n",
            "[0.0, 1.0, nan]\n",
            "================================================\n",
            "sex\n",
            "[1.0, 0.0, nan]\n",
            "================================================\n",
            "工作分類\n",
            "[1.0, 2.0, nan]\n",
            "================================================\n",
            "職等\n",
            "[3.0, 4.0, 7.0, 1.0, 2.0, nan, 6.0, 5.0, 8.0]\n",
            "================================================\n",
            "廠區代碼\n",
            "[19.0, 8.0, 14.0, 4.0, 20.0, 2.0, 17.0, 16.0, 13.0, 6.0, 10.0, 18.0, 11.0, nan, 9.0, 5.0, 12.0]\n",
            "================================================\n",
            "管理層級\n",
            "[4.0, 6.0, 1.0, 2.0, 3.0, 5.0, nan]\n",
            "================================================\n",
            "工作資歷1\n",
            "[0.0, 1.0, nan]\n",
            "================================================\n",
            "工作資歷2\n",
            "[1.0, 0.0, nan]\n",
            "================================================\n",
            "工作資歷3\n",
            "[1.0, 0.0, nan]\n",
            "================================================\n",
            "工作資歷4\n",
            "[0.0, 1.0, nan]\n",
            "================================================\n",
            "工作資歷5\n",
            "[0.0, 1.0, nan]\n",
            "================================================\n",
            "專案時數\n",
            "[23.0, 3.0, 22.0, 24.0, 16.0, 21.0, 4.0, 13.0, 20.0, 19.0, 17.0, 11.0, 6.0, 12.0, nan, 15.0, 7.0, 2.0, 1.0, 18.0, 5.0, 10.0, 8.0, 14.0, 9.0, 0.0, 25.0]\n",
            "================================================\n",
            "專案總數\n",
            "[1.0, 2.0, 3.0, 4.0, 5.0, 7.0, nan, 6.0, 8.0]\n",
            "================================================\n",
            "當前專案角色\n",
            "[1.0, 5.0, 3.0, nan, 2.0]\n",
            "================================================\n",
            "特殊專案佔比\n",
            "[3.0, 1.0, 5.0, 0.0, 4.0, 2.0, 15.0, 7.0, 11.0, 8.0, 9.0, nan, 13.0, 12.0, 6.0, 10.0, 14.0]\n",
            "================================================\n",
            "工作地點\n",
            "[6.0, 9.0, 5.0, 2.0, 8.0, 1.0, nan, 3.0, 4.0, 11.0, 13.0, 10.0]\n",
            "================================================\n",
            "訓練時數A\n",
            "[0.0, 2.0, 1.0, 3.0, 6.0, 7.0, 4.0, nan, 5.0, 8.0, 9.0, 15.0, 11.0, 12.0, 10.0, 14.0, 13.0]\n",
            "================================================\n",
            "訓練時數B\n",
            "[0.0, 1.0, 2.0, 3.0, 8.0, 15.0, nan, 4.0, 11.0, 6.0, 12.0, 5.0, 10.0, 7.0, 9.0, 13.0, 14.0]\n",
            "================================================\n",
            "訓練時數C\n",
            "[5.0, 8.0, 10.0, 1.0, 2.0, 0.0, 4.0, 12.0, 3.0, 14.0, 6.0, nan, 7.0, 11.0, 9.0, 13.0, 15.0]\n",
            "================================================\n",
            "生產總額\n",
            "[7.0, 9.0, 10.0, 8.0, 6.0, 3.0, 4.0, 15.0, 12.0, 13.0, 1.0, 5.0, 0.0, 2.0, 14.0, 25.0, 31.0, 21.0, 19.0, 11.0, 27.0, 33.0, 22.0, 17.0, 23.0, nan, 20.0, 48.0, 47.0, 30.0, 26.0, 18.0, 16.0, 34.0, 29.0, 35.0, 40.0, 38.0, 43.0, 36.0, 100.0, 84.0, 39.0, 41.0, 28.0, 53.0, 66.0, 56.0, 37.0, 46.0, 95.0, 44.0, 24.0, 70.0, 32.0, 82.0, 52.0, 97.0, 58.0, 61.0, 45.0, 64.0, 55.0, 54.0, 96.0, 42.0, 59.0, 79.0, 74.0, 63.0, 92.0, 76.0, 88.0, 50.0, 57.0, 51.0, 69.0, 91.0, 87.0, 98.0, 60.0, 78.0, 75.0, 68.0, 67.0, 71.0, 89.0, 83.0, 85.0, 90.0, 80.0, 62.0, 77.0, 99.0]\n",
            "================================================\n",
            "榮譽數\n",
            "[1.0, 2.0, 0.0, 3.0, nan, 4.0, 5.0, 6.0, 9.0, 7.0, 8.0]\n",
            "================================================\n",
            "是否升遷\n",
            "[1.0, 0.0, nan]\n",
            "================================================\n",
            "升遷速度\n",
            "[1.0, 2.0, 6.0, 7.0, 3.0, 4.0, 5.0, 8.0, nan, 9.0, 10.0]\n",
            "================================================\n",
            "近三月請假數A\n",
            "[3.0, 4.0, 5.0, 6.0, 0.0, 1.0, 2.0, nan, 8.0, 7.0, 9.0, 11.0, 10.0, 13.0, 12.0, 14.0, 15.0]\n",
            "================================================\n",
            "近一年請假數A\n",
            "[5.0, 6.0, 7.0, 10.0, 8.0, 9.0, 3.0, 4.0, 11.0, nan, 2.0, 1.0, 12.0]\n",
            "================================================\n",
            "近三月請假數B\n",
            "[0.0, 1.0, nan, 4.0, 2.0, 6.0, 3.0, 5.0, 7.0, 8.0]\n",
            "================================================\n",
            "近一年請假數B\n",
            "[0.0, 1.0, 2.0, nan, 4.0, 7.0, 3.0, 5.0, 6.0, 8.0]\n",
            "================================================\n",
            "出差數A\n",
            "[5.0, 3.0, 2.0, 0.0, 1.0, 4.0, nan, 6.0, 7.0, 9.0, 10.0, 8.0]\n",
            "================================================\n",
            "出差數B\n",
            "[0.0, 1.0, 2.0, 10.0, 4.0, nan, 7.0, 3.0, 5.0, 8.0, 6.0, 9.0]\n",
            "================================================\n",
            "出差集中度\n",
            "[9.0, 4.0, 2.0, 1.0, 0.0, 3.0, 6.0, 5.0, 14.0, 7.0, nan, 8.0, 10.0, 13.0, 11.0, 12.0]\n",
            "================================================\n",
            "年度績效等級A\n",
            "[2.0, 6.0, 1.0, 4.0, 5.0, 10.0, 7.0, nan, 3.0, 9.0, 8.0]\n",
            "================================================\n",
            "年度績效等級B\n",
            "[10.0, 1.0, 8.0, 4.0, 5.0, 7.0, 6.0, 2.0, 9.0, 3.0, nan]\n",
            "================================================\n",
            "年度績效等級C\n",
            "[4.0, 5.0, 2.0, 3.0, nan, 1.0]\n",
            "================================================\n",
            "年齡層級\n",
            "[6.0, 7.0, 9.0, 10.0, 11.0, 3.0, 12.0, 13.0, 2.0, 4.0, 5.0, 8.0, nan]\n",
            "================================================\n",
            "婚姻狀況\n",
            "[1.0, 2.0, nan, 3.0]\n",
            "================================================\n",
            "年資層級A\n",
            "[2.0, 5.0, 6.0, 1.0, 7.0, 3.0, 8.0, 4.0, nan, 9.0]\n",
            "================================================\n",
            "年資層級B\n",
            "[1.0, 2.0, 5.0, 6.0, 4.0, 3.0, 7.0, 8.0, nan, 9.0]\n",
            "================================================\n",
            "年資層級C\n",
            "[1.0, 0.0, 3.0, 4.0, 5.0, 2.0, 6.0, nan, 9.0, 7.0, 8.0]\n",
            "================================================\n",
            "任職前工作平均年數\n",
            "[2.0, 0.0, 3.0, 1.0, nan, 4.0, 5.0, 7.0, 6.0]\n",
            "================================================\n",
            "最高學歷\n",
            "[nan, 2.0, 3.0, 1.0]\n",
            "================================================\n",
            "畢業學校類別\n",
            "[nan, 4.0, 3.0, 5.0, 1.0, 6.0]\n",
            "================================================\n",
            "畢業科系類別\n",
            "[5.0, 1.0, 8.0, 3.0, 7.0, 4.0, 6.0, 9.0, nan, 2.0]\n",
            "================================================\n",
            "眷屬量\n",
            "[0.0, 2.0, 1.0, 3.0, nan]\n",
            "================================================\n",
            "通勤成本\n",
            "[8.0, 10.0, 9.0, 6.0, 7.0, 11.0, nan, 13.0, 14.0, 12.0, 5.0, 4.0, 15.0, 16.0]\n",
            "================================================\n",
            "歸屬部門\n",
            "[19138.0, 8181.0, 14048.0, 4045.0, 8157.0, 20208.0, 2177.0, 17041.0, 16070.0, 13147.0, 8126.0, 14105.0, 8038.0, 13151.0, 14040.0, 6167.0, 6024.0, 20184.0, 20062.0, 20082.0, 8145.0, 14053.0, 14160.0, 14077.0, 10008.0, 16121.0, 2180.0, 16001.0, 18002.0, 13065.0, 11182.0, 8139.0, 8028.0, 8194.0, 17112.0, 14067.0, 8162.0, 16086.0, 13168.0, 13084.0, 17144.0, nan, 8074.0, 2197.0, 18111.0, 14195.0, 19043.0, 9044.0, 13087.0, 8142.0, 20054.0, 20089.0, 14021.0, 13191.0, 20019.0, 20127.0, 9132.0, 19036.0, 20071.0, 20123.0, 20130.0, 2185.0, 10005.0, 19039.0, 19035.0, 14057.0, 17108.0, 2128.0, 2058.0, 2029.0, 13049.0, 10011.0, 16178.0, 18025.0, 20069.0, 19166.0, 19004.0, 2098.0, 8107.0, 13159.0, 14193.0, 2169.0, 20017.0, 8206.0, 17047.0, 4125.0, 13034.0, 6170.0, 19135.0, 11051.0, 5027.0, 8012.0, 20037.0, 10155.0, 4010.0, 17068.0, 19174.0, 17093.0, 17033.0, 9102.0, 17150.0, 2101.0, 2149.0, 4131.0, 8117.0, 20134.0, 8018.0, 13183.0, 5163.0, 5103.0, 14179.0, 20192.0, 10088.0, 4073.0, 19090.0, 16059.0, 16120.0, 8104.0, 11063.0, 16175.0, 6171.0, 14207.0, 4190.0, 12072.0, 19186.0, 12060.0, 12083.0, 12115.0, 13085.0, 12106.0, 12113.0, 12046.0, 12042.0, 12148.0, 16143.0, 12023.0, 19099.0, 19097.0, 12030.0, 19076.0]\n",
            "================================================\n"
          ]
        }
      ]
    },
    {
      "cell_type": "code",
      "source": [
        "#test 與 train的NA\n",
        "print(test.isnull().sum())\n",
        "print(\"================================================\")\n",
        "print(train.isnull().sum())"
      ],
      "metadata": {
        "colab": {
          "base_uri": "https://localhost:8080/"
        },
        "id": "SRnkuVnqkStt",
        "outputId": "60e517f9-176d-4562-ea4c-92e6dae78b24"
      },
      "execution_count": 8,
      "outputs": [
        {
          "output_type": "stream",
          "name": "stdout",
          "text": [
            "yyyy            0\n",
            "PerNo           0\n",
            "PerStatus    3739\n",
            "sex            18\n",
            "工作分類           18\n",
            "職等             18\n",
            "廠區代碼           18\n",
            "管理層級           18\n",
            "工作資歷1          18\n",
            "工作資歷2          18\n",
            "工作資歷3          18\n",
            "工作資歷4          18\n",
            "工作資歷5          18\n",
            "專案時數           18\n",
            "專案總數           18\n",
            "當前專案角色         18\n",
            "特殊專案佔比         18\n",
            "工作地點           18\n",
            "訓練時數A          18\n",
            "訓練時數B          18\n",
            "訓練時數C          18\n",
            "生產總額           18\n",
            "榮譽數            18\n",
            "是否升遷           18\n",
            "升遷速度           18\n",
            "近三月請假數A        18\n",
            "近一年請假數A        18\n",
            "近三月請假數B        18\n",
            "近一年請假數B        18\n",
            "出差數A           18\n",
            "出差數B           18\n",
            "出差集中度          18\n",
            "年度績效等級A        18\n",
            "年度績效等級B        18\n",
            "年度績效等級C        18\n",
            "年齡層級           18\n",
            "婚姻狀況           18\n",
            "年資層級A          18\n",
            "年資層級B          18\n",
            "年資層級C          18\n",
            "任職前工作平均年數      18\n",
            "最高學歷         1384\n",
            "畢業學校類別       1067\n",
            "畢業科系類別         18\n",
            "眷屬量            18\n",
            "通勤成本           18\n",
            "歸屬部門           18\n",
            "dtype: int64\n",
            "================================================\n",
            "yyyy            0\n",
            "PerNo           0\n",
            "PerStatus       0\n",
            "sex            73\n",
            "工作分類           73\n",
            "職等             73\n",
            "廠區代碼           73\n",
            "管理層級           73\n",
            "工作資歷1          73\n",
            "工作資歷2          73\n",
            "工作資歷3          73\n",
            "工作資歷4          73\n",
            "工作資歷5          73\n",
            "專案時數           73\n",
            "專案總數           73\n",
            "當前專案角色         73\n",
            "特殊專案佔比         73\n",
            "工作地點           73\n",
            "訓練時數A          73\n",
            "訓練時數B          73\n",
            "訓練時數C          73\n",
            "生產總額           73\n",
            "榮譽數            73\n",
            "是否升遷           73\n",
            "升遷速度           73\n",
            "近三月請假數A        73\n",
            "近一年請假數A        73\n",
            "近三月請假數B        73\n",
            "近一年請假數B        73\n",
            "出差數A           73\n",
            "出差數B           73\n",
            "出差集中度          73\n",
            "年度績效等級A        73\n",
            "年度績效等級B        73\n",
            "年度績效等級C        73\n",
            "年齡層級           73\n",
            "婚姻狀況           73\n",
            "年資層級A          73\n",
            "年資層級B          73\n",
            "年資層級C          73\n",
            "任職前工作平均年數      73\n",
            "最高學歷         5326\n",
            "畢業學校類別       3841\n",
            "畢業科系類別         73\n",
            "眷屬量            73\n",
            "通勤成本           73\n",
            "歸屬部門           73\n",
            "dtype: int64\n"
          ]
        }
      ]
    },
    {
      "cell_type": "markdown",
      "source": [
        "#資料清洗\n"
      ],
      "metadata": {
        "id": "58qnSTSWjHMI"
      }
    },
    {
      "cell_type": "code",
      "source": [
        "#先看一下NA\n",
        "t_data.isnull().sum()"
      ],
      "metadata": {
        "colab": {
          "base_uri": "https://localhost:8080/"
        },
        "id": "o3f0VbRxjJHO",
        "outputId": "0246cf3b-02d1-464e-e7e0-0339f90dade5"
      },
      "execution_count": 9,
      "outputs": [
        {
          "output_type": "execute_result",
          "data": {
            "text/plain": [
              "yyyy            0\n",
              "PerNo           0\n",
              "PerStatus    3739\n",
              "sex            91\n",
              "工作分類           91\n",
              "職等             91\n",
              "廠區代碼           91\n",
              "管理層級           91\n",
              "工作資歷1          91\n",
              "工作資歷2          91\n",
              "工作資歷3          91\n",
              "工作資歷4          91\n",
              "工作資歷5          91\n",
              "專案時數           91\n",
              "專案總數           91\n",
              "當前專案角色         91\n",
              "特殊專案佔比         91\n",
              "工作地點           91\n",
              "訓練時數A          91\n",
              "訓練時數B          91\n",
              "訓練時數C          91\n",
              "生產總額           91\n",
              "榮譽數            91\n",
              "是否升遷           91\n",
              "升遷速度           91\n",
              "近三月請假數A        91\n",
              "近一年請假數A        91\n",
              "近三月請假數B        91\n",
              "近一年請假數B        91\n",
              "出差數A           91\n",
              "出差數B           91\n",
              "出差集中度          91\n",
              "年度績效等級A        91\n",
              "年度績效等級B        91\n",
              "年度績效等級C        91\n",
              "年齡層級           91\n",
              "婚姻狀況           91\n",
              "年資層級A          91\n",
              "年資層級B          91\n",
              "年資層級C          91\n",
              "任職前工作平均年數      91\n",
              "最高學歷         6710\n",
              "畢業學校類別       4908\n",
              "畢業科系類別         91\n",
              "眷屬量            91\n",
              "通勤成本           91\n",
              "歸屬部門           91\n",
              "dtype: int64"
            ]
          },
          "metadata": {},
          "execution_count": 9
        }
      ]
    },
    {
      "cell_type": "code",
      "source": [
        "t_data = train.append(test)"
      ],
      "metadata": {
        "id": "-bkvHwOFwtyy",
        "colab": {
          "base_uri": "https://localhost:8080/"
        },
        "outputId": "1623c52e-99dc-428f-b959-3f327e865ed8"
      },
      "execution_count": 10,
      "outputs": [
        {
          "output_type": "stream",
          "name": "stderr",
          "text": [
            "<ipython-input-10-3284ece20f33>:1: FutureWarning: The frame.append method is deprecated and will be removed from pandas in a future version. Use pandas.concat instead.\n",
            "  t_data = train.append(test)\n"
          ]
        }
      ]
    },
    {
      "cell_type": "code",
      "source": [
        "#最高學歷與畢業類別的數量最多NA所以刪除\n",
        "t_data = t_data.drop(columns=['最高學歷','畢業學校類別','出差數A','出差數B'])\n",
        "#類別變項的NA 所以可能還是有用，就將其主換成99留下\n",
        "dv = ['工作分類','職等','廠區代碼','管理層級','當前專案角色','工作地點','年度績效等級A','年度績效等級B',\n",
        "      '年度績效等級C','年齡層級','年資層級A','年資層級B','年資層級C','歸屬部門','畢業科系類別'] #na=0\n",
        "dv2 = ['sex', '是否升遷','工作資歷1','工作資歷2','工作資歷3','工作資歷4','工作資歷5']# na= 3\n",
        "dv3 = ['婚姻狀況']#na=4\n",
        "for i in dv:\n",
        "        t_data[i] = t_data[i].fillna(0)\n",
        "for i in dv2:\n",
        "        t_data[i] = t_data[i].fillna(3)\n",
        "for i in dv3:\n",
        "        t_data[i] = t_data[i].fillna(4)\n",
        "\n",
        "#連續變項則補上中位數\n",
        "cv = ['專案時數','專案總數','特殊專案佔比','訓練時數A','訓練時數B','訓練時數C'\n",
        "      ,'生產總額','榮譽數','升遷速度','出差集中度','任職前工作平均年數','眷屬量'\n",
        "      ,'通勤成本','近三月請假數A','近一年請假數A','近三月請假數B','近一年請假數B']\n",
        "for i in cv:\n",
        "        t_data[i] = t_data[i].fillna(t_data[i].median())\n",
        "\n"
      ],
      "metadata": {
        "id": "-B9_-ul8S3fz"
      },
      "execution_count": 11,
      "outputs": []
    },
    {
      "cell_type": "code",
      "source": [
        "t_data.isnull().sum()"
      ],
      "metadata": {
        "id": "X-NRcexNWm8S",
        "colab": {
          "base_uri": "https://localhost:8080/"
        },
        "outputId": "4e4711c9-3a17-46fb-9391-08cb45d9328b"
      },
      "execution_count": 12,
      "outputs": [
        {
          "output_type": "execute_result",
          "data": {
            "text/plain": [
              "yyyy            0\n",
              "PerNo           0\n",
              "PerStatus    3739\n",
              "sex             0\n",
              "工作分類            0\n",
              "職等              0\n",
              "廠區代碼            0\n",
              "管理層級            0\n",
              "工作資歷1           0\n",
              "工作資歷2           0\n",
              "工作資歷3           0\n",
              "工作資歷4           0\n",
              "工作資歷5           0\n",
              "專案時數            0\n",
              "專案總數            0\n",
              "當前專案角色          0\n",
              "特殊專案佔比          0\n",
              "工作地點            0\n",
              "訓練時數A           0\n",
              "訓練時數B           0\n",
              "訓練時數C           0\n",
              "生產總額            0\n",
              "榮譽數             0\n",
              "是否升遷            0\n",
              "升遷速度            0\n",
              "近三月請假數A         0\n",
              "近一年請假數A         0\n",
              "近三月請假數B         0\n",
              "近一年請假數B         0\n",
              "出差集中度           0\n",
              "年度績效等級A         0\n",
              "年度績效等級B         0\n",
              "年度績效等級C         0\n",
              "年齡層級            0\n",
              "婚姻狀況            0\n",
              "年資層級A           0\n",
              "年資層級B           0\n",
              "年資層級C           0\n",
              "任職前工作平均年數       0\n",
              "畢業科系類別          0\n",
              "眷屬量             0\n",
              "通勤成本            0\n",
              "歸屬部門            0\n",
              "dtype: int64"
            ]
          },
          "metadata": {},
          "execution_count": 12
        }
      ]
    },
    {
      "cell_type": "markdown",
      "source": [
        "#不平衡的資料"
      ],
      "metadata": {
        "id": "deT1iIwDBIhO"
      }
    },
    {
      "cell_type": "code",
      "source": [
        "#挑選出train資料\n",
        "t_data_train = t_data[t_data['PerStatus'].notnull()]"
      ],
      "metadata": {
        "id": "WQ6fbUnNBb7m"
      },
      "execution_count": 13,
      "outputs": []
    },
    {
      "cell_type": "code",
      "source": [
        "sns.countplot(x=t_data_train['PerStatus'], data=train)"
      ],
      "metadata": {
        "colab": {
          "base_uri": "https://localhost:8080/",
          "height": 296
        },
        "id": "Oz0FPwDBBIM-",
        "outputId": "0f5b0ec8-b48c-4c9e-a28d-b0da1010e0af"
      },
      "execution_count": 14,
      "outputs": [
        {
          "output_type": "execute_result",
          "data": {
            "text/plain": [
              "<AxesSubplot:xlabel='PerStatus', ylabel='count'>"
            ]
          },
          "metadata": {},
          "execution_count": 14
        },
        {
          "output_type": "display_data",
          "data": {
            "text/plain": [
              "<Figure size 432x288 with 1 Axes>"
            ],
            "image/png": "[encoded data removed]"
          },
          "metadata": {
            "needs_background": "light"
          }
        }
      ]
    },
    {
      "cell_type": "code",
      "source": [
        "len(t_data_train[t_data_train['PerStatus']==1]) # 離職人數為796"
      ],
      "metadata": {
        "colab": {
          "base_uri": "https://localhost:8080/"
        },
        "id": "_UsVqPvXFIuS",
        "outputId": "8b8a79de-a7f8-417e-f09b-910707958af2"
      },
      "execution_count": 15,
      "outputs": [
        {
          "output_type": "execute_result",
          "data": {
            "text/plain": [
              "796"
            ]
          },
          "metadata": {},
          "execution_count": 15
        }
      ]
    },
    {
      "cell_type": "code",
      "source": [
        "t_data_train = t_data_train.sample(frac=1)#打亂順序\n",
        "t_data_train_quit = t_data_train.loc[t_data_train['PerStatus'] == 1] #選出離職人數\n",
        "t_data_train_non_quit = t_data_train.loc[t_data_train['PerStatus'] == 0][:796] #隨機選出位離職的796人\n",
        "t_data_train_new = t_data_train_quit.append(t_data_train_non_quit) #重新合併薪資料\n",
        "t_data_train_new_shuffle = t_data_train_new.sample(frac=1, random_state=69)"
      ],
      "metadata": {
        "id": "tKXN1T1sGKrR",
        "colab": {
          "base_uri": "https://localhost:8080/"
        },
        "outputId": "a8621e87-0450-470d-ed06-e714ee9663ba"
      },
      "execution_count": 16,
      "outputs": [
        {
          "output_type": "stream",
          "name": "stderr",
          "text": [
            "<ipython-input-16-a389e637f4b3>:4: FutureWarning: The frame.append method is deprecated and will be removed from pandas in a future version. Use pandas.concat instead.\n",
            "  t_data_train_new = t_data_train_quit.append(t_data_train_non_quit) #重新合併薪資料\n"
          ]
        }
      ]
    },
    {
      "cell_type": "code",
      "source": [
        "t_data_train_new_shuffle.info()"
      ],
      "metadata": {
        "colab": {
          "base_uri": "https://localhost:8080/"
        },
        "id": "jLvJEDzABiRm",
        "outputId": "dab0153b-1066-44a4-ae03-0e1635ec12ff"
      },
      "execution_count": 17,
      "outputs": [
        {
          "output_type": "stream",
          "name": "stdout",
          "text": [
            "<class 'pandas.core.frame.DataFrame'>\n",
            "Int64Index: 1592 entries, 6686 to 2776\n",
            "Data columns (total 43 columns):\n",
            " #   Column     Non-Null Count  Dtype  \n",
            "---  ------     --------------  -----  \n",
            " 0   yyyy       1592 non-null   int64  \n",
            " 1   PerNo      1592 non-null   int64  \n",
            " 2   PerStatus  1592 non-null   float64\n",
            " 3   sex        1592 non-null   float64\n",
            " 4   工作分類       1592 non-null   float64\n",
            " 5   職等         1592 non-null   float64\n",
            " 6   廠區代碼       1592 non-null   float64\n",
            " 7   管理層級       1592 non-null   float64\n",
            " 8   工作資歷1      1592 non-null   float64\n",
            " 9   工作資歷2      1592 non-null   float64\n",
            " 10  工作資歷3      1592 non-null   float64\n",
            " 11  工作資歷4      1592 non-null   float64\n",
            " 12  工作資歷5      1592 non-null   float64\n",
            " 13  專案時數       1592 non-null   float64\n",
            " 14  專案總數       1592 non-null   float64\n",
            " 15  當前專案角色     1592 non-null   float64\n",
            " 16  特殊專案佔比     1592 non-null   float64\n",
            " 17  工作地點       1592 non-null   float64\n",
            " 18  訓練時數A      1592 non-null   float64\n",
            " 19  訓練時數B      1592 non-null   float64\n",
            " 20  訓練時數C      1592 non-null   float64\n",
            " 21  生產總額       1592 non-null   float64\n",
            " 22  榮譽數        1592 non-null   float64\n",
            " 23  是否升遷       1592 non-null   float64\n",
            " 24  升遷速度       1592 non-null   float64\n",
            " 25  近三月請假數A    1592 non-null   float64\n",
            " 26  近一年請假數A    1592 non-null   float64\n",
            " 27  近三月請假數B    1592 non-null   float64\n",
            " 28  近一年請假數B    1592 non-null   float64\n",
            " 29  出差集中度      1592 non-null   float64\n",
            " 30  年度績效等級A    1592 non-null   float64\n",
            " 31  年度績效等級B    1592 non-null   float64\n",
            " 32  年度績效等級C    1592 non-null   float64\n",
            " 33  年齡層級       1592 non-null   float64\n",
            " 34  婚姻狀況       1592 non-null   float64\n",
            " 35  年資層級A      1592 non-null   float64\n",
            " 36  年資層級B      1592 non-null   float64\n",
            " 37  年資層級C      1592 non-null   float64\n",
            " 38  任職前工作平均年數  1592 non-null   float64\n",
            " 39  畢業科系類別     1592 non-null   float64\n",
            " 40  眷屬量        1592 non-null   float64\n",
            " 41  通勤成本       1592 non-null   float64\n",
            " 42  歸屬部門       1592 non-null   float64\n",
            "dtypes: float64(41), int64(2)\n",
            "memory usage: 547.2 KB\n"
          ]
        }
      ]
    },
    {
      "cell_type": "markdown",
      "source": [
        "#特徵篩選1 選擇前10名\n",
        "效果不是很理想，反而都不要篩選，正確率更高(22%)\n",
        "所以開始特徵篩選2"
      ],
      "metadata": {
        "id": "uxW79iHVRW6f"
      }
    },
    {
      "cell_type": "code",
      "source": [
        "#類別變項\n",
        "dv_all = ['工作分類','職等','廠區代碼','管理層級','當前專案角色','工作地點','年度績效等級A','年度績效等級B',\n",
        "      '年度績效等級C','年齡層級','年資層級A','年資層級B','年資層級C','歸屬部門','畢業科系類別','sex', \n",
        "      '是否升遷','工作資歷1','工作資歷2','工作資歷3','工作資歷4','工作資歷5','婚姻狀況']\n",
        "#連續變項 = 就是cv"
      ],
      "metadata": {
        "id": "a0w2UutURisw"
      },
      "execution_count": 19,
      "outputs": []
    },
    {
      "cell_type": "code",
      "source": [
        "#卡方檢定\n",
        "from sklearn.feature_selection import SelectKBest\n",
        "from sklearn.feature_selection import chi2\n",
        "#選擇特徵\n",
        "x_new_best = SelectKBest(chi2,k=5)#取前10名\n",
        "x_new_best.fit(t_data_train_new_shuffle[dv_all],t_data_train_new_shuffle['PerStatus'])\n",
        "#選擇欄位名稱\n",
        "x_new_col = t_data_train_new_shuffle[dv_all].columns[x_new_best.get_support()]\n",
        "x_new_col"
      ],
      "metadata": {
        "colab": {
          "base_uri": "https://localhost:8080/"
        },
        "outputId": "0e66ebe7-f52e-4f76-cd8f-dc97f5b842bc",
        "id": "r2s9ulrybFAi"
      },
      "execution_count": 101,
      "outputs": [
        {
          "output_type": "execute_result",
          "data": {
            "text/plain": [
              "Index(['年齡層級', '年資層級A', '年資層級B', '歸屬部門', '工作資歷5'], dtype='object')"
            ]
          },
          "metadata": {},
          "execution_count": 101
        }
      ]
    },
    {
      "cell_type": "code",
      "source": [
        "#anova分析\n",
        "from sklearn.feature_selection import f_classif\n",
        "#選擇特徵\n",
        "x_new2_best = SelectKBest(f_classif, k =5)#各取前十名\n",
        "x_new2_best.fit(t_data_train_new_shuffle[cv],t_data_train_new_shuffle['PerStatus'])\n",
        "#取得欄位名稱\n",
        "x_new2_col = t_data_train_new_shuffle[cv].columns[x_new2_best.get_support()]\n",
        "x_new2_col"
      ],
      "metadata": {
        "id": "ZFwALNqJTDcP",
        "colab": {
          "base_uri": "https://localhost:8080/"
        },
        "outputId": "639e9851-eba6-4086-d663-957348b15834"
      },
      "execution_count": 78,
      "outputs": [
        {
          "output_type": "execute_result",
          "data": {
            "text/plain": [
              "Index(['升遷速度', '任職前工作平均年數', '眷屬量', '近三月請假數B', '近一年請假數B'], dtype='object')"
            ]
          },
          "metadata": {},
          "execution_count": 78
        }
      ]
    },
    {
      "cell_type": "code",
      "source": [
        "x_new=np.concatenate((x_new_col, x_new2_col), axis=0)\n",
        "print(len(x_new))\n",
        "x_new"
      ],
      "metadata": {
        "colab": {
          "base_uri": "https://localhost:8080/"
        },
        "id": "FdQOxNERBaXh",
        "outputId": "6de133f0-44c1-415a-a2ca-214135bd8638"
      },
      "execution_count": 79,
      "outputs": [
        {
          "output_type": "stream",
          "name": "stdout",
          "text": [
            "10\n"
          ]
        },
        {
          "output_type": "execute_result",
          "data": {
            "text/plain": [
              "array(['年齡層級', '年資層級A', '年資層級B', '歸屬部門', '工作資歷5', '升遷速度', '任職前工作平均年數',\n",
              "       '眷屬量', '近三月請假數B', '近一年請假數B'], dtype=object)"
            ]
          },
          "metadata": {},
          "execution_count": 79
        }
      ]
    },
    {
      "cell_type": "markdown",
      "source": [
        "#特徵篩選2"
      ],
      "metadata": {
        "id": "4c6Md8atyG0V"
      }
    },
    {
      "cell_type": "code",
      "source": [
        "#卡方檢定\n",
        "from sklearn.feature_selection import SelectKBest\n",
        "from sklearn.feature_selection import chi2\n",
        "# 計算卡方值和 P-value\n",
        "x_new_scores, x_new_pvals = chi2(t_data_train_new_shuffle[dv_all], t_data_train_new_shuffle['PerStatus'])\n",
        "\n",
        "# 將卡方值和 P-value 串接成 DataFrame\n",
        "df_scores_pvals = pd.DataFrame({'Feature': dv_all, 'Score': x_new_scores, 'P-value': x_new_pvals})\n",
        "\n",
        "# 根據 P-value 選擇顯著的特徵\n",
        "significant_features = df_scores_pvals[df_scores_pvals['P-value'] < 0.001]['Feature'].tolist()\n",
        "\n",
        "# 選擇顯著的特徵\n",
        "x_new_best2 = SelectKBest(chi2, k=len(significant_features))\n",
        "x_new_best2.fit(t_data_train_new_shuffle[dv_all], t_data_train_new_shuffle['PerStatus'])\n",
        "\n",
        "#選取出欄位\n",
        "x_new_col2 = t_data_train_new_shuffle[dv_all].columns[x_new_best2.get_support()]\n",
        "x_new_col2"
      ],
      "metadata": {
        "colab": {
          "base_uri": "https://localhost:8080/"
        },
        "id": "SKxfBS_jvf5k",
        "outputId": "8d1964d0-bc6e-40a2-bc26-5cf871eab42d"
      },
      "execution_count": 133,
      "outputs": [
        {
          "output_type": "execute_result",
          "data": {
            "text/plain": [
              "Index(['年齡層級', '年資層級A', '年資層級B', '年資層級C', '歸屬部門', '工作資歷5'], dtype='object')"
            ]
          },
          "metadata": {},
          "execution_count": 133
        }
      ]
    },
    {
      "cell_type": "code",
      "source": [
        "#anova分析\n",
        "from sklearn.feature_selection import f_classif\n",
        "\n",
        "# 計算P-value\n",
        "x_new2_scores, x_new2_pvals = f_classif(t_data_train_new_shuffle[cv], t_data_train_new_shuffle['PerStatus'])\n",
        "\n",
        "# 將卡方值和 P-value 串接成 DataFrame\n",
        "df_scores_pvals2 = pd.DataFrame({'Feature': cv, 'Score': x_new2_scores, 'P-value': x_new2_pvals})\n",
        "\n",
        "# 根據 P-value 選擇顯著的特徵\n",
        "significant_features2 = df_scores_pvals2[df_scores_pvals2['P-value'] < 0.001]['Feature'].tolist()\n",
        "\n",
        "# 選擇顯著的特徵\n",
        "x_new2_best2 = SelectKBest(f_classif, k=len(significant_features2))\n",
        "x_new2_best2.fit(t_data_train_new_shuffle[cv], t_data_train_new_shuffle['PerStatus'])\n",
        "\n",
        "#選取出欄位\n",
        "x_new2_col2 = t_data_train_new_shuffle[cv].columns[x_new2_best2.get_support()]\n",
        "x_new2_col2"
      ],
      "metadata": {
        "colab": {
          "base_uri": "https://localhost:8080/"
        },
        "id": "tQynllKOyPnc",
        "outputId": "84741d85-5942-4598-f29d-97d695cb0132"
      },
      "execution_count": 134,
      "outputs": [
        {
          "output_type": "execute_result",
          "data": {
            "text/plain": [
              "Index(['特殊專案佔比', '升遷速度', '任職前工作平均年數', '眷屬量', '近三月請假數B', '近一年請假數B'], dtype='object')"
            ]
          },
          "metadata": {},
          "execution_count": 134
        }
      ]
    },
    {
      "cell_type": "code",
      "source": [
        "x_new2=np.concatenate((x_new_col2, x_new2_col2), axis=0)\n",
        "print(len(x_new2))\n",
        "x_new2"
      ],
      "metadata": {
        "colab": {
          "base_uri": "https://localhost:8080/"
        },
        "id": "cN4rr2clzrOa",
        "outputId": "6d41d7a3-6095-45b3-848d-7b626a47415a"
      },
      "execution_count": 135,
      "outputs": [
        {
          "output_type": "stream",
          "name": "stdout",
          "text": [
            "12\n"
          ]
        },
        {
          "output_type": "execute_result",
          "data": {
            "text/plain": [
              "array(['年齡層級', '年資層級A', '年資層級B', '年資層級C', '歸屬部門', '工作資歷5', '特殊專案佔比',\n",
              "       '升遷速度', '任職前工作平均年數', '眷屬量', '近三月請假數B', '近一年請假數B'], dtype=object)"
            ]
          },
          "metadata": {},
          "execution_count": 135
        }
      ]
    },
    {
      "cell_type": "markdown",
      "source": [
        "#SVM"
      ],
      "metadata": {
        "id": "kViyhLawZHy6"
      }
    },
    {
      "cell_type": "code",
      "source": [
        "#分開資料\n",
        "train_x = t_data_train_new_shuffle[t_data_train_new_shuffle['PerStatus'].notnull()][x_new2].values\n",
        "train_y = t_data_train_new_shuffle[t_data_train_new_shuffle['PerStatus'].notnull()][['PerStatus']].values\n",
        "test_x = t_data[t_data['PerStatus'].isnull()].drop('PerStatus',axis=1)[x_new2].values"
      ],
      "metadata": {
        "id": "JBruvI9sjI7w"
      },
      "execution_count": 138,
      "outputs": []
    },
    {
      "cell_type": "code",
      "source": [
        "from sklearn.model_selection import train_test_split\n",
        "x_train, x_test, y_train, y_test = train_test_split(train_x, train_y, test_size=0.3, random_state=69)"
      ],
      "metadata": {
        "id": "2RqPeHdlbIHS"
      },
      "execution_count": 139,
      "outputs": []
    },
    {
      "cell_type": "code",
      "source": [
        "from sklearn import svm\n",
        "svm = svm.LinearSVC( random_state= 69)\n",
        "#svm.LinearSVC()是svm的classifier\n",
        "#svm.LinearSVR()是svm的regression\n",
        "#這裡是要二分，所以使用svc"
      ],
      "metadata": {
        "id": "cf_0Nw8lZJJU"
      },
      "execution_count": 64,
      "outputs": []
    },
    {
      "cell_type": "code",
      "source": [
        "svm.fit(x_train,y_train)"
      ],
      "metadata": {
        "colab": {
          "base_uri": "https://localhost:8080/",
          "height": 164
        },
        "id": "8qAtDeUob_Sp",
        "outputId": "5f3ee6ab-ff64-4209-96d7-b8f5ca022e5f"
      },
      "execution_count": 65,
      "outputs": [
        {
          "output_type": "stream",
          "name": "stderr",
          "text": [
            "/usr/local/lib/python3.9/dist-packages/sklearn/utils/validation.py:1143: DataConversionWarning: A column-vector y was passed when a 1d array was expected. Please change the shape of y to (n_samples, ), for example using ravel().\n",
            "  y = column_or_1d(y, warn=True)\n",
            "/usr/local/lib/python3.9/dist-packages/sklearn/svm/_base.py:1244: ConvergenceWarning: Liblinear failed to converge, increase the number of iterations.\n",
            "  warnings.warn(\n"
          ]
        },
        {
          "output_type": "execute_result",
          "data": {
            "text/plain": [
              "LinearSVC(random_state=69)"
            ],
            "text/html": [
              "<style>#sk-container-id-3 {color: black;background-color: white;}#sk-container-id-3 pre{padding: 0;}#sk-container-id-3 div.sk-toggleable {background-color: white;}#sk-container-id-3 label.sk-toggleable__label {cursor: pointer;display: block;width: 100%;margin-bottom: 0;padding: 0.3em;box-sizing: border-box;text-align: center;}#sk-container-id-3 label.sk-toggleable__label-arrow:before {content: \"▸\";float: left;margin-right: 0.25em;color: #696969;}#sk-container-id-3 label.sk-toggleable__label-arrow:hover:before {color: black;}#sk-container-id-3 div.sk-estimator:hover label.sk-toggleable__label-arrow:before {color: black;}#sk-container-id-3 div.sk-toggleable__content {max-height: 0;max-width: 0;overflow: hidden;text-align: left;background-color: #f0f8ff;}#sk-container-id-3 div.sk-toggleable__content pre {margin: 0.2em;color: black;border-radius: 0.25em;background-color: #f0f8ff;}#sk-container-id-3 input.sk-toggleable__control:checked~div.sk-toggleable__content {max-height: 200px;max-width: 100%;overflow: auto;}#sk-container-id-3 input.sk-toggleable__control:checked~label.sk-toggleable__label-arrow:before {content: \"▾\";}#sk-container-id-3 div.sk-estimator input.sk-toggleable__control:checked~label.sk-toggleable__label {background-color: #d4ebff;}#sk-container-id-3 div.sk-label input.sk-toggleable__control:checked~label.sk-toggleable__label {background-color: #d4ebff;}#sk-container-id-3 input.sk-hidden--visually {border: 0;clip: rect(1px 1px 1px 1px);clip: rect(1px, 1px, 1px, 1px);height: 1px;margin: -1px;overflow: hidden;padding: 0;position: absolute;width: 1px;}#sk-container-id-3 div.sk-estimator {font-family: monospace;background-color: #f0f8ff;border: 1px dotted black;border-radius: 0.25em;box-sizing: border-box;margin-bottom: 0.5em;}#sk-container-id-3 div.sk-estimator:hover {background-color: #d4ebff;}#sk-container-id-3 div.sk-parallel-item::after {content: \"\";width: 100%;border-bottom: 1px solid gray;flex-grow: 1;}#sk-container-id-3 div.sk-label:hover label.sk-toggleable__label {background-color: #d4ebff;}#sk-container-id-3 div.sk-serial::before {content: \"\";position: absolute;border-left: 1px solid gray;box-sizing: border-box;top: 0;bottom: 0;left: 50%;z-index: 0;}#sk-container-id-3 div.sk-serial {display: flex;flex-direction: column;align-items: center;background-color: white;padding-right: 0.2em;padding-left: 0.2em;position: relative;}#sk-container-id-3 div.sk-item {position: relative;z-index: 1;}#sk-container-id-3 div.sk-parallel {display: flex;align-items: stretch;justify-content: center;background-color: white;position: relative;}#sk-container-id-3 div.sk-item::before, #sk-container-id-3 div.sk-parallel-item::before {content: \"\";position: absolute;border-left: 1px solid gray;box-sizing: border-box;top: 0;bottom: 0;left: 50%;z-index: -1;}#sk-container-id-3 div.sk-parallel-item {display: flex;flex-direction: column;z-index: 1;position: relative;background-color: white;}#sk-container-id-3 div.sk-parallel-item:first-child::after {align-self: flex-end;width: 50%;}#sk-container-id-3 div.sk-parallel-item:last-child::after {align-self: flex-start;width: 50%;}#sk-container-id-3 div.sk-parallel-item:only-child::after {width: 0;}#sk-container-id-3 div.sk-dashed-wrapped {border: 1px dashed gray;margin: 0 0.4em 0.5em 0.4em;box-sizing: border-box;padding-bottom: 0.4em;background-color: white;}#sk-container-id-3 div.sk-label label {font-family: monospace;font-weight: bold;display: inline-block;line-height: 1.2em;}#sk-container-id-3 div.sk-label-container {text-align: center;}#sk-container-id-3 div.sk-container {/* jupyter's `normalize.less` sets `[hidden] { display: none; }` but bootstrap.min.css set `[hidden] { display: none !important; }` so we also need the `!important` here to be able to override the default hidden behavior on the sphinx rendered scikit-learn.org. See: https://github.com/scikit-learn/scikit-learn/issues/21755 */display: inline-block !important;position: relative;}#sk-container-id-3 div.sk-text-repr-fallback {display: none;}</style><div id=\"sk-container-id-3\" class=\"sk-top-container\"><div class=\"sk-text-repr-fallback\"><pre>LinearSVC(random_state=69)</pre><b>In a Jupyter environment, please rerun this cell to show the HTML representation or trust the notebook. <br />On GitHub, the HTML representation is unable to render, please try loading this page with nbviewer.org.</b></div><div class=\"sk-container\" hidden><div class=\"sk-item\"><div class=\"sk-estimator sk-toggleable\"><input class=\"sk-toggleable__control sk-hidden--visually\" id=\"sk-estimator-id-3\" type=\"checkbox\" checked><label for=\"sk-estimator-id-3\" class=\"sk-toggleable__label sk-toggleable__label-arrow\">LinearSVC</label><div class=\"sk-toggleable__content\"><pre>LinearSVC(random_state=69)</pre></div></div></div></div></div>"
            ]
          },
          "metadata": {},
          "execution_count": 65
        }
      ]
    },
    {
      "cell_type": "code",
      "source": [
        "svm_pred_y_test = svm.predict(x_test)\n",
        "svm_pred_y_test = svm_pred_y_test.reshape(478 ,-1) #他有478列"
      ],
      "metadata": {
        "id": "33bMyuywdGR0"
      },
      "execution_count": 67,
      "outputs": []
    },
    {
      "cell_type": "code",
      "source": [
        "svm.score(x_test,y_test)"
      ],
      "metadata": {
        "colab": {
          "base_uri": "https://localhost:8080/"
        },
        "id": "vsJdHrWGcC0g",
        "outputId": "5b5ed9b8-c962-4891-bf20-9540a4abc959"
      },
      "execution_count": 70,
      "outputs": [
        {
          "output_type": "execute_result",
          "data": {
            "text/plain": [
              "0.5251046025104602"
            ]
          },
          "metadata": {},
          "execution_count": 70
        }
      ]
    },
    {
      "cell_type": "code",
      "source": [
        "#將預測繳交\n",
        "svm_pred = svm.predict(test_x)\n",
        "svm_sub = pd.DataFrame({\"PerNo\":sub['PerNo'],\n",
        "                \"PerStatus\":svm_pred.astype(int)})\n",
        "svm_sub.to_csv('svm_sub.csv', encoding = 'utf-8-sig', index = False) \n",
        "files.download('svm_sub.csv')"
      ],
      "metadata": {
        "colab": {
          "base_uri": "https://localhost:8080/",
          "height": 17
        },
        "id": "sjEF6nmmjTZx",
        "outputId": "946b3975-52bb-4938-d2b9-b48865d04a0f"
      },
      "execution_count": null,
      "outputs": [
        {
          "output_type": "display_data",
          "data": {
            "text/plain": [
              "<IPython.core.display.Javascript object>"
            ],
            "application/javascript": [
              "\n",
              "    async function download(id, filename, size) {\n",
              "      if (!google.colab.kernel.accessAllowed) {\n",
              "        return;\n",
              "      }\n",
              "      const div = document.createElement('div');\n",
              "      const label = document.createElement('label');\n",
              "      label.textContent = `Downloading \"${filename}\": `;\n",
              "      div.appendChild(label);\n",
              "      const progress = document.createElement('progress');\n",
              "      progress.max = size;\n",
              "      div.appendChild(progress);\n",
              "      document.body.appendChild(div);\n",
              "\n",
              "      const buffers = [];\n",
              "      let downloaded = 0;\n",
              "\n",
              "      const channel = await google.colab.kernel.comms.open(id);\n",
              "      // Send a message to notify the kernel that we're ready.\n",
              "      channel.send({})\n",
              "\n",
              "      for await (const message of channel.messages) {\n",
              "        // Send a message to notify the kernel that we're ready.\n",
              "        channel.send({})\n",
              "        if (message.buffers) {\n",
              "          for (const buffer of message.buffers) {\n",
              "            buffers.push(buffer);\n",
              "            downloaded += buffer.byteLength;\n",
              "            progress.value = downloaded;\n",
              "          }\n",
              "        }\n",
              "      }\n",
              "      const blob = new Blob(buffers, {type: 'application/binary'});\n",
              "      const a = document.createElement('a');\n",
              "      a.href = window.URL.createObjectURL(blob);\n",
              "      a.download = filename;\n",
              "      div.appendChild(a);\n",
              "      a.click();\n",
              "      div.remove();\n",
              "    }\n",
              "  "
            ]
          },
          "metadata": {}
        },
        {
          "output_type": "display_data",
          "data": {
            "text/plain": [
              "<IPython.core.display.Javascript object>"
            ],
            "application/javascript": [
              "download(\"download_bb0a3746-2e75-4b7d-aac6-2fc37bf97082\", \"svm_sub.csv\", 25742)"
            ]
          },
          "metadata": {}
        }
      ]
    },
    {
      "cell_type": "markdown",
      "source": [
        "#隨機森林"
      ],
      "metadata": {
        "id": "0RfNR0X5JOAv"
      }
    },
    {
      "cell_type": "code",
      "source": [
        "from sklearn.ensemble import RandomForestClassifier\n",
        "forest = RandomForestClassifier(random_state=2, n_estimators=250, min_samples_split =20,oob_score=True)\n",
        "forest.fit(train_x,train_y)\n",
        "print('Base oob score:{}'.format(forest.oob_score_))"
      ],
      "metadata": {
        "id": "HDure_EUle8e",
        "colab": {
          "base_uri": "https://localhost:8080/"
        },
        "outputId": "9d5029cb-64e2-4af0-98c0-2d342670c1da"
      },
      "execution_count": 140,
      "outputs": [
        {
          "output_type": "stream",
          "name": "stderr",
          "text": [
            "<ipython-input-140-f1f8e87a1903>:3: DataConversionWarning: A column-vector y was passed when a 1d array was expected. Please change the shape of y to (n_samples,), for example using ravel().\n",
            "  forest.fit(train_x,train_y)\n"
          ]
        },
        {
          "output_type": "stream",
          "name": "stdout",
          "text": [
            "Base oob score:0.6130653266331658\n"
          ]
        }
      ]
    },
    {
      "cell_type": "code",
      "source": [
        "forest.score(x_test,y_test)"
      ],
      "metadata": {
        "colab": {
          "base_uri": "https://localhost:8080/"
        },
        "id": "CHPWIGxyJ8xA",
        "outputId": "ac4cc1bc-601f-4658-ea33-1f69d61331c9"
      },
      "execution_count": 141,
      "outputs": [
        {
          "output_type": "execute_result",
          "data": {
            "text/plain": [
              "0.8138075313807531"
            ]
          },
          "metadata": {},
          "execution_count": 141
        }
      ]
    },
    {
      "cell_type": "code",
      "source": [
        "#將預測繳交\n",
        "for_pred = forest.predict(test_x)\n",
        "for_sub = pd.DataFrame({\"PerNo\":sub['PerNo'],\n",
        "                \"PerStatus\":for_pred.astype(int)})\n",
        "for_sub.to_csv('for_sub.csv', encoding = 'utf-8-sig', index = False) \n",
        "files.download('for_sub.csv')"
      ],
      "metadata": {
        "colab": {
          "base_uri": "https://localhost:8080/",
          "height": 17
        },
        "id": "ganAMvynKDhz",
        "outputId": "5ed51afc-40e6-42d4-818a-994aa877470b"
      },
      "execution_count": 142,
      "outputs": [
        {
          "output_type": "display_data",
          "data": {
            "text/plain": [
              "<IPython.core.display.Javascript object>"
            ],
            "application/javascript": [
              "\n",
              "    async function download(id, filename, size) {\n",
              "      if (!google.colab.kernel.accessAllowed) {\n",
              "        return;\n",
              "      }\n",
              "      const div = document.createElement('div');\n",
              "      const label = document.createElement('label');\n",
              "      label.textContent = `Downloading \"${filename}\": `;\n",
              "      div.appendChild(label);\n",
              "      const progress = document.createElement('progress');\n",
              "      progress.max = size;\n",
              "      div.appendChild(progress);\n",
              "      document.body.appendChild(div);\n",
              "\n",
              "      const buffers = [];\n",
              "      let downloaded = 0;\n",
              "\n",
              "      const channel = await google.colab.kernel.comms.open(id);\n",
              "      // Send a message to notify the kernel that we're ready.\n",
              "      channel.send({})\n",
              "\n",
              "      for await (const message of channel.messages) {\n",
              "        // Send a message to notify the kernel that we're ready.\n",
              "        channel.send({})\n",
              "        if (message.buffers) {\n",
              "          for (const buffer of message.buffers) {\n",
              "            buffers.push(buffer);\n",
              "            downloaded += buffer.byteLength;\n",
              "            progress.value = downloaded;\n",
              "          }\n",
              "        }\n",
              "      }\n",
              "      const blob = new Blob(buffers, {type: 'application/binary'});\n",
              "      const a = document.createElement('a');\n",
              "      a.href = window.URL.createObjectURL(blob);\n",
              "      a.download = filename;\n",
              "      div.appendChild(a);\n",
              "      a.click();\n",
              "      div.remove();\n",
              "    }\n",
              "  "
            ]
          },
          "metadata": {}
        },
        {
          "output_type": "display_data",
          "data": {
            "text/plain": [
              "<IPython.core.display.Javascript object>"
            ],
            "application/javascript": [
              "download(\"download_1abc7783-06e7-4b10-a882-d58eeda7fca4\", \"for_sub.csv\", 25742)"
            ]
          },
          "metadata": {}
        }
      ]
    },
    {
      "cell_type": "code",
      "source": [],
      "metadata": {
        "id": "aC4498vUKOjD"
      },
      "execution_count": null,
      "outputs": []
    }
  ]
}